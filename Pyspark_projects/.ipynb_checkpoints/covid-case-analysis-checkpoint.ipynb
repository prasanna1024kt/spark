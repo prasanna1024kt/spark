{
 "cells": [
  {
   "cell_type": "code",
   "execution_count": 3,
   "id": "f485841f",
   "metadata": {},
   "outputs": [],
   "source": [
    "import pyspark\n",
    "from pyspark.sql import SparkSession,SQLContext\n",
    "from pyspark.context import SparkContext\n",
    "from pyspark.sql.functions import *\n",
    "from pyspark.sql.types import *"
   ]
  },
  {
   "cell_type": "code",
   "execution_count": 4,
   "id": "44181c6a",
   "metadata": {},
   "outputs": [
    {
     "name": "stdout",
     "output_type": "stream",
     "text": [
      "25/02/05 14:47:58 WARN SparkSession: Using an existing Spark session; only runtime SQL configurations will take effect.\n"
     ]
    }
   ],
   "source": [
    "spark = SparkSession.builder.appName('Covid sample analysis').getOrCreate()"
   ]
  },
  {
   "cell_type": "markdown",
   "id": "3d2be0f3",
   "metadata": {},
   "source": [
    "### Practicing Spark operations using a COVID dataset. The tasks include:\n",
    "\n",
    "#### 1.Reading a CSV file\n",
    "#### 2.Changing column names and data types\n",
    "#### 3.Applying filters and transformations\n",
    "#### 4.Performing joins\n",
    "#### 5.Using Spark SQL\n",
    "#### 6.Implementing Spark UDFs\n",
    "#### 7.Applying window functions\n"
   ]
  },
  {
   "cell_type": "markdown",
   "id": "d98e0ef5",
   "metadata": {},
   "source": [
    "#### 1.Reading a CSV file\n"
   ]
  },
  {
   "cell_type": "code",
   "execution_count": 5,
   "id": "dfea997f",
   "metadata": {},
   "outputs": [
    {
     "data": {
      "text/plain": [
       "DataFrame[ case_id: int, province: string, city: string, group: boolean, infection_case: string, confirmed: int, latitude: string, longitude: string]"
      ]
     },
     "execution_count": 5,
     "metadata": {},
     "output_type": "execute_result"
    }
   ],
   "source": [
    "\n",
    "covid_data = spark.read.load('./source_data/Case.csv', format=\"csv\", sep=',', inferschema=True, header=True)\n",
    "covid_data "
   ]
  },
  {
   "cell_type": "code",
   "execution_count": 6,
   "id": "49ee1bed",
   "metadata": {},
   "outputs": [
    {
     "name": "stdout",
     "output_type": "stream",
     "text": [
      "+--------+--------+---------------+-----+--------------------+---------+---------+----------+\n",
      "| case_id|province|           city|group|      infection_case|confirmed| latitude| longitude|\n",
      "+--------+--------+---------------+-----+--------------------+---------+---------+----------+\n",
      "| 1000001|   Seoul|     Yongsan-gu| true|       Itaewon Clubs|      139|37.538621|126.992652|\n",
      "| 1000002|   Seoul|      Gwanak-gu| true|             Richway|      119| 37.48208|126.901384|\n",
      "| 1000003|   Seoul|        Guro-gu| true| Guro-gu Call Center|       95|37.508163|126.884387|\n",
      "| 1000004|   Seoul|   Yangcheon-gu| true|Yangcheon Table T...|       43|37.546061|126.874209|\n",
      "| 1000005|   Seoul|      Dobong-gu| true|     Day Care Center|       43|37.679422|127.044374|\n",
      "| 1000006|   Seoul|        Guro-gu| true|Manmin Central Ch...|       41|37.481059|126.894343|\n",
      "| 1000007|   Seoul|from other city| true|SMR Newly Planted...|       36|        -|         -|\n",
      "| 1000008|   Seoul|  Dongdaemun-gu| true|       Dongan Church|       17|37.592888|127.056766|\n",
      "| 1000009|   Seoul|from other city| true|Coupang Logistics...|       25|        -|         -|\n",
      "| 1000010|   Seoul|      Gwanak-gu| true|     Wangsung Church|       30|37.481735|126.930121|\n",
      "| 1000011|   Seoul|   Eunpyeong-gu| true|Eunpyeong St. Mar...|       14| 37.63369|  126.9165|\n",
      "| 1000012|   Seoul|   Seongdong-gu| true|    Seongdong-gu APT|       13| 37.55713|  127.0403|\n",
      "| 1000013|   Seoul|      Jongno-gu| true|Jongno Community ...|       10| 37.57681|   127.006|\n",
      "| 1000014|   Seoul|     Gangnam-gu| true|Samsung Medical C...|        7| 37.48825| 127.08559|\n",
      "| 1000015|   Seoul|        Jung-gu| true|Jung-gu Fashion C...|        7|37.562405|126.984377|\n",
      "| 1000016|   Seoul|   Seodaemun-gu| true|  Yeonana News Class|        5|37.558147|126.943799|\n",
      "| 1000017|   Seoul|      Jongno-gu| true|Korea Campus Crus...|        7|37.594782|126.968022|\n",
      "| 1000018|   Seoul|     Gangnam-gu| true|Gangnam Yeoksam-d...|        6|        -|         -|\n",
      "| 1000019|   Seoul|from other city| true|Daejeon door-to-d...|        1|        -|         -|\n",
      "| 1000020|   Seoul|   Geumcheon-gu| true|Geumcheon-gu rice...|        6|        -|         -|\n",
      "+--------+--------+---------------+-----+--------------------+---------+---------+----------+\n",
      "only showing top 20 rows\n",
      "\n"
     ]
    }
   ],
   "source": [
    "covid_data.show()"
   ]
  },
  {
   "cell_type": "code",
   "execution_count": 8,
   "id": "c1232e4b",
   "metadata": {},
   "outputs": [
    {
     "name": "stdout",
     "output_type": "stream",
     "text": [
      "+--------+--------+---------------+-----+--------------------+---------------+---------+----------+\n",
      "| case_id|province|           city|group|     continment_area|confirmed_cases| latitude| longitude|\n",
      "+--------+--------+---------------+-----+--------------------+---------------+---------+----------+\n",
      "| 1000001|   Seoul|     Yongsan-gu| true|       Itaewon Clubs|            139|37.538621|126.992652|\n",
      "| 1000002|   Seoul|      Gwanak-gu| true|             Richway|            119| 37.48208|126.901384|\n",
      "| 1000003|   Seoul|        Guro-gu| true| Guro-gu Call Center|             95|37.508163|126.884387|\n",
      "| 1000004|   Seoul|   Yangcheon-gu| true|Yangcheon Table T...|             43|37.546061|126.874209|\n",
      "| 1000005|   Seoul|      Dobong-gu| true|     Day Care Center|             43|37.679422|127.044374|\n",
      "| 1000006|   Seoul|        Guro-gu| true|Manmin Central Ch...|             41|37.481059|126.894343|\n",
      "| 1000007|   Seoul|from other city| true|SMR Newly Planted...|             36|        -|         -|\n",
      "| 1000008|   Seoul|  Dongdaemun-gu| true|       Dongan Church|             17|37.592888|127.056766|\n",
      "| 1000009|   Seoul|from other city| true|Coupang Logistics...|             25|        -|         -|\n",
      "| 1000010|   Seoul|      Gwanak-gu| true|     Wangsung Church|             30|37.481735|126.930121|\n",
      "| 1000011|   Seoul|   Eunpyeong-gu| true|Eunpyeong St. Mar...|             14| 37.63369|  126.9165|\n",
      "| 1000012|   Seoul|   Seongdong-gu| true|    Seongdong-gu APT|             13| 37.55713|  127.0403|\n",
      "| 1000013|   Seoul|      Jongno-gu| true|Jongno Community ...|             10| 37.57681|   127.006|\n",
      "| 1000014|   Seoul|     Gangnam-gu| true|Samsung Medical C...|              7| 37.48825| 127.08559|\n",
      "| 1000015|   Seoul|        Jung-gu| true|Jung-gu Fashion C...|              7|37.562405|126.984377|\n",
      "| 1000016|   Seoul|   Seodaemun-gu| true|  Yeonana News Class|              5|37.558147|126.943799|\n",
      "| 1000017|   Seoul|      Jongno-gu| true|Korea Campus Crus...|              7|37.594782|126.968022|\n",
      "| 1000018|   Seoul|     Gangnam-gu| true|Gangnam Yeoksam-d...|              6|        -|         -|\n",
      "| 1000019|   Seoul|from other city| true|Daejeon door-to-d...|              1|        -|         -|\n",
      "| 1000020|   Seoul|   Geumcheon-gu| true|Geumcheon-gu rice...|              6|        -|         -|\n",
      "+--------+--------+---------------+-----+--------------------+---------------+---------+----------+\n",
      "only showing top 20 rows\n",
      "\n"
     ]
    }
   ],
   "source": [
    "covid_datas =covid_data.withColumnRenamed('infection_case','continment_area')\\\n",
    "       .withColumnRenamed('confirmed','confirmed_cases')  \n",
    "covid_datas.show()"
   ]
  },
  {
   "cell_type": "code",
   "execution_count": 9,
   "id": "8627c144",
   "metadata": {},
   "outputs": [
    {
     "name": "stdout",
     "output_type": "stream",
     "text": [
      "+--------+-----------------+---------------+-----+--------------------+---------------+---------+----------+\n",
      "| case_id|         province|           city|group|     continment_area|confirmed_cases| latitude| longitude|\n",
      "+--------+-----------------+---------------+-----+--------------------+---------------+---------+----------+\n",
      "| 7000002|          Jeju-do|              -|false|contact with patient|              0|        -|         -|\n",
      "| 3000007|       Gangwon-do|              -|false|contact with patient|              0|        -|         -|\n",
      "| 1000030|            Seoul|     Gangseo-gu| true|SJ Investment Cal...|              0|37.559649|126.835102|\n",
      "| 1100007|            Busan|from other city| true|Cheongdo Daenam H...|              1|        -|         -|\n",
      "| 5000003|     Jeollabuk-do|from other city| true|  Shincheonji Church|              1|        -|         -|\n",
      "| 1000028|            Seoul|from other city| true|Anyang Gunpo Past...|              1|        -|         -|\n",
      "| 1000025|            Seoul|     Gangnam-gu| true|Gangnam Dongin Ch...|              1|37.522331|127.057388|\n",
      "| 1700003|           Sejong|from other city| true|  Shincheonji Church|              1|        -|         -|\n",
      "| 5100002|     Jeollanam-do|from other city| true|  Shincheonji Church|              1|        -|         -|\n",
      "| 7000004|          Jeju-do|from other city| true|       Itaewon Clubs|              1|        -|         -|\n",
      "| 1000019|            Seoul|from other city| true|Daejeon door-to-d...|              1|        -|         -|\n",
      "| 1000034|            Seoul|              -| true|         Orange Life|              1|        -|         -|\n",
      "| 1700006|           Sejong|              -|false|                 etc|              1|        -|         -|\n",
      "| 1300005|          Gwangju|              -|false|                 etc|              1|        -|         -|\n",
      "| 1200006|            Daegu|from other city| true|       Itaewon Clubs|              2|        -|         -|\n",
      "| 1200007|            Daegu|from other city| true|Cheongdo Daenam H...|              2|        -|         -|\n",
      "| 1400004|          Incheon|from other city| true|  Shincheonji Church|              2|        -|         -|\n",
      "| 1000033|            Seoul|from other city| true|Uiwang Logistics ...|              2|        -|         -|\n",
      "| 1500006|          Daejeon|from other city| true|  Shincheonji Church|              2|        -|         -|\n",
      "| 4000003|Chungcheongbuk-do|from other city| true| Guro-gu Call Center|              2|        -|         -|\n",
      "+--------+-----------------+---------------+-----+--------------------+---------------+---------+----------+\n",
      "only showing top 20 rows\n",
      "\n"
     ]
    }
   ],
   "source": [
    "covid_datas.sort('confirmed_cases').show()"
   ]
  },
  {
   "cell_type": "code",
   "execution_count": 10,
   "id": "6b343618",
   "metadata": {},
   "outputs": [
    {
     "name": "stdout",
     "output_type": "stream",
     "text": [
      "+--------+-----------------+---------------+-----+--------------------+---------------+---------+----------+\n",
      "| case_id|         province|           city|group|     continment_area|confirmed_cases| latitude| longitude|\n",
      "+--------+-----------------+---------------+-----+--------------------+---------------+---------+----------+\n",
      "| 1200001|            Daegu|         Nam-gu| true|  Shincheonji Church|           4511| 35.84008|  128.5667|\n",
      "| 1200009|            Daegu|              -|false|contact with patient|            917|        -|         -|\n",
      "| 1200010|            Daegu|              -|false|                 etc|            747|        -|         -|\n",
      "| 6000001| Gyeongsangbuk-do|from other city| true|  Shincheonji Church|            566|        -|         -|\n",
      "| 2000020|      Gyeonggi-do|              -|false|     overseas inflow|            305|        -|         -|\n",
      "| 1000036|            Seoul|              -|false|     overseas inflow|            298|        -|         -|\n",
      "| 1200002|            Daegu|   Dalseong-gun| true|Second Mi-Ju Hosp...|            196|35.857375|128.466651|\n",
      "| 6000012| Gyeongsangbuk-do|              -|false|contact with patient|            190|        -|         -|\n",
      "| 1000037|            Seoul|              -|false|contact with patient|            162|        -|         -|\n",
      "| 1000001|            Seoul|     Yongsan-gu| true|       Itaewon Clubs|            139|37.538621|126.992652|\n",
      "| 6000013| Gyeongsangbuk-do|              -|false|                 etc|            133|        -|         -|\n",
      "| 1200003|            Daegu|         Seo-gu| true|Hansarang Convale...|            124|35.885592|128.556649|\n",
      "| 1000002|            Seoul|      Gwanak-gu| true|             Richway|            119| 37.48208|126.901384|\n",
      "| 6000002| Gyeongsangbuk-do|   Cheongdo-gun| true|Cheongdo Daenam H...|            119| 35.64887|  128.7368|\n",
      "| 4100001|Chungcheongnam-do|     Cheonan-si| true|gym facility in C...|            103| 36.81503|  127.1139|\n",
      "| 1200004|            Daegu|   Dalseong-gun| true|Daesil Convalesce...|            101|35.857393|128.466653|\n",
      "| 1000038|            Seoul|              -|false|                 etc|            100|        -|         -|\n",
      "| 1000003|            Seoul|        Guro-gu| true| Guro-gu Call Center|             95|37.508163|126.884387|\n",
      "| 2000022|      Gyeonggi-do|              -|false|                 etc|             84|        -|         -|\n",
      "| 1400005|          Incheon|              -|false|     overseas inflow|             68|        -|         -|\n",
      "+--------+-----------------+---------------+-----+--------------------+---------------+---------+----------+\n",
      "only showing top 20 rows\n",
      "\n"
     ]
    }
   ],
   "source": [
    "covid_datas.sort(desc('confirmed_cases')).show()"
   ]
  },
  {
   "cell_type": "code",
   "execution_count": null,
   "id": "3db01bb4",
   "metadata": {},
   "outputs": [],
   "source": []
  }
 ],
 "metadata": {
  "kernelspec": {
   "display_name": "Python 3 (ipykernel)",
   "language": "python",
   "name": "python3"
  },
  "language_info": {
   "codemirror_mode": {
    "name": "ipython",
    "version": 3
   },
   "file_extension": ".py",
   "mimetype": "text/x-python",
   "name": "python",
   "nbconvert_exporter": "python",
   "pygments_lexer": "ipython3",
   "version": "3.11.1"
  }
 },
 "nbformat": 4,
 "nbformat_minor": 5
}
