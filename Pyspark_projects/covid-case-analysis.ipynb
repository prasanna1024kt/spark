{
 "cells": [
  {
   "cell_type": "code",
   "execution_count": 3,
   "id": "ab17247f",
   "metadata": {},
   "outputs": [],
   "source": [
    "import pyspark\n",
    "from pyspark.sql import SparkSession,SQLContext\n",
    "from pyspark.context import SparkContext\n",
    "from pyspark.sql.functions import *\n",
    "from pyspark.sql.types import *"
   ]
  },
  {
   "cell_type": "code",
   "execution_count": 4,
   "id": "0cb63a65",
   "metadata": {},
   "outputs": [
    {
     "name": "stdout",
     "output_type": "stream",
     "text": [
      "25/02/05 14:47:58 WARN SparkSession: Using an existing Spark session; only runtime SQL configurations will take effect.\n"
     ]
    }
   ],
   "source": [
    "spark = SparkSession.builder.appName('Covid sample analysis').getOrCreate()"
   ]
  },
  {
   "cell_type": "markdown",
   "id": "491994cc",
   "metadata": {},
   "source": [
    "### Practicing Spark operations using a COVID dataset. The tasks include:\n",
    "\n",
    "#### 1.Reading a CSV file\n",
    "#### 2.Changing column names and data types\n",
    "#### 3.Applying filters and transformations\n",
    "#### 4.Performing joins\n",
    "#### 5.Using Spark SQL\n",
    "#### 6.Implementing Spark UDFs\n",
    "#### 7.Applying window functions\n"
   ]
  },
  {
   "cell_type": "markdown",
   "id": "bfe947e8",
   "metadata": {},
   "source": [
    "#### 1.Reading a CSV file\n"
   ]
  },
  {
   "cell_type": "code",
   "execution_count": 5,
   "id": "b64d77fa",
   "metadata": {},
   "outputs": [
    {
     "data": {
      "text/plain": [
       "DataFrame[ case_id: int, province: string, city: string, group: boolean, infection_case: string, confirmed: int, latitude: string, longitude: string]"
      ]
     },
     "execution_count": 5,
     "metadata": {},
     "output_type": "execute_result"
    }
   ],
   "source": [
    "\n",
    "covid_data = spark.read.load('./source_data/Case.csv', format=\"csv\", sep=',', inferschema=True, header=True)\n",
    "covid_data "
   ]
  },
  {
   "cell_type": "code",
   "execution_count": 6,
   "id": "f7286b9b",
   "metadata": {},
   "outputs": [
    {
     "name": "stdout",
     "output_type": "stream",
     "text": [
      "+--------+--------+---------------+-----+--------------------+---------+---------+----------+\n",
      "| case_id|province|           city|group|      infection_case|confirmed| latitude| longitude|\n",
      "+--------+--------+---------------+-----+--------------------+---------+---------+----------+\n",
      "| 1000001|   Seoul|     Yongsan-gu| true|       Itaewon Clubs|      139|37.538621|126.992652|\n",
      "| 1000002|   Seoul|      Gwanak-gu| true|             Richway|      119| 37.48208|126.901384|\n",
      "| 1000003|   Seoul|        Guro-gu| true| Guro-gu Call Center|       95|37.508163|126.884387|\n",
      "| 1000004|   Seoul|   Yangcheon-gu| true|Yangcheon Table T...|       43|37.546061|126.874209|\n",
      "| 1000005|   Seoul|      Dobong-gu| true|     Day Care Center|       43|37.679422|127.044374|\n",
      "| 1000006|   Seoul|        Guro-gu| true|Manmin Central Ch...|       41|37.481059|126.894343|\n",
      "| 1000007|   Seoul|from other city| true|SMR Newly Planted...|       36|        -|         -|\n",
      "| 1000008|   Seoul|  Dongdaemun-gu| true|       Dongan Church|       17|37.592888|127.056766|\n",
      "| 1000009|   Seoul|from other city| true|Coupang Logistics...|       25|        -|         -|\n",
      "| 1000010|   Seoul|      Gwanak-gu| true|     Wangsung Church|       30|37.481735|126.930121|\n",
      "| 1000011|   Seoul|   Eunpyeong-gu| true|Eunpyeong St. Mar...|       14| 37.63369|  126.9165|\n",
      "| 1000012|   Seoul|   Seongdong-gu| true|    Seongdong-gu APT|       13| 37.55713|  127.0403|\n",
      "| 1000013|   Seoul|      Jongno-gu| true|Jongno Community ...|       10| 37.57681|   127.006|\n",
      "| 1000014|   Seoul|     Gangnam-gu| true|Samsung Medical C...|        7| 37.48825| 127.08559|\n",
      "| 1000015|   Seoul|        Jung-gu| true|Jung-gu Fashion C...|        7|37.562405|126.984377|\n",
      "| 1000016|   Seoul|   Seodaemun-gu| true|  Yeonana News Class|        5|37.558147|126.943799|\n",
      "| 1000017|   Seoul|      Jongno-gu| true|Korea Campus Crus...|        7|37.594782|126.968022|\n",
      "| 1000018|   Seoul|     Gangnam-gu| true|Gangnam Yeoksam-d...|        6|        -|         -|\n",
      "| 1000019|   Seoul|from other city| true|Daejeon door-to-d...|        1|        -|         -|\n",
      "| 1000020|   Seoul|   Geumcheon-gu| true|Geumcheon-gu rice...|        6|        -|         -|\n",
      "+--------+--------+---------------+-----+--------------------+---------+---------+----------+\n",
      "only showing top 20 rows\n",
      "\n"
     ]
    }
   ],
   "source": [
    "covid_data.show()"
   ]
  },
  {
   "cell_type": "markdown",
   "id": "d2c550ad",
   "metadata": {},
   "source": [
    "#### 2.Changing column names and data types\n"
   ]
  },
  {
   "cell_type": "code",
   "execution_count": 8,
   "id": "c7817af9",
   "metadata": {},
   "outputs": [
    {
     "name": "stdout",
     "output_type": "stream",
     "text": [
      "+--------+--------+---------------+-----+--------------------+---------------+---------+----------+\n",
      "| case_id|province|           city|group|     continment_area|confirmed_cases| latitude| longitude|\n",
      "+--------+--------+---------------+-----+--------------------+---------------+---------+----------+\n",
      "| 1000001|   Seoul|     Yongsan-gu| true|       Itaewon Clubs|            139|37.538621|126.992652|\n",
      "| 1000002|   Seoul|      Gwanak-gu| true|             Richway|            119| 37.48208|126.901384|\n",
      "| 1000003|   Seoul|        Guro-gu| true| Guro-gu Call Center|             95|37.508163|126.884387|\n",
      "| 1000004|   Seoul|   Yangcheon-gu| true|Yangcheon Table T...|             43|37.546061|126.874209|\n",
      "| 1000005|   Seoul|      Dobong-gu| true|     Day Care Center|             43|37.679422|127.044374|\n",
      "| 1000006|   Seoul|        Guro-gu| true|Manmin Central Ch...|             41|37.481059|126.894343|\n",
      "| 1000007|   Seoul|from other city| true|SMR Newly Planted...|             36|        -|         -|\n",
      "| 1000008|   Seoul|  Dongdaemun-gu| true|       Dongan Church|             17|37.592888|127.056766|\n",
      "| 1000009|   Seoul|from other city| true|Coupang Logistics...|             25|        -|         -|\n",
      "| 1000010|   Seoul|      Gwanak-gu| true|     Wangsung Church|             30|37.481735|126.930121|\n",
      "| 1000011|   Seoul|   Eunpyeong-gu| true|Eunpyeong St. Mar...|             14| 37.63369|  126.9165|\n",
      "| 1000012|   Seoul|   Seongdong-gu| true|    Seongdong-gu APT|             13| 37.55713|  127.0403|\n",
      "| 1000013|   Seoul|      Jongno-gu| true|Jongno Community ...|             10| 37.57681|   127.006|\n",
      "| 1000014|   Seoul|     Gangnam-gu| true|Samsung Medical C...|              7| 37.48825| 127.08559|\n",
      "| 1000015|   Seoul|        Jung-gu| true|Jung-gu Fashion C...|              7|37.562405|126.984377|\n",
      "| 1000016|   Seoul|   Seodaemun-gu| true|  Yeonana News Class|              5|37.558147|126.943799|\n",
      "| 1000017|   Seoul|      Jongno-gu| true|Korea Campus Crus...|              7|37.594782|126.968022|\n",
      "| 1000018|   Seoul|     Gangnam-gu| true|Gangnam Yeoksam-d...|              6|        -|         -|\n",
      "| 1000019|   Seoul|from other city| true|Daejeon door-to-d...|              1|        -|         -|\n",
      "| 1000020|   Seoul|   Geumcheon-gu| true|Geumcheon-gu rice...|              6|        -|         -|\n",
      "+--------+--------+---------------+-----+--------------------+---------------+---------+----------+\n",
      "only showing top 20 rows\n",
      "\n"
     ]
    }
   ],
   "source": [
    "covid_datas =covid_data.withColumnRenamed('infection_case','continment_area')\\\n",
    "       .withColumnRenamed('confirmed','confirmed_cases')  \n",
    "covid_datas.show()"
   ]
  },
  {
   "cell_type": "code",
   "execution_count": 9,
   "id": "7e4b6c05",
   "metadata": {},
   "outputs": [
    {
     "name": "stdout",
     "output_type": "stream",
     "text": [
      "+--------+-----------------+---------------+-----+--------------------+---------------+---------+----------+\n",
      "| case_id|         province|           city|group|     continment_area|confirmed_cases| latitude| longitude|\n",
      "+--------+-----------------+---------------+-----+--------------------+---------------+---------+----------+\n",
      "| 7000002|          Jeju-do|              -|false|contact with patient|              0|        -|         -|\n",
      "| 3000007|       Gangwon-do|              -|false|contact with patient|              0|        -|         -|\n",
      "| 1000030|            Seoul|     Gangseo-gu| true|SJ Investment Cal...|              0|37.559649|126.835102|\n",
      "| 1100007|            Busan|from other city| true|Cheongdo Daenam H...|              1|        -|         -|\n",
      "| 5000003|     Jeollabuk-do|from other city| true|  Shincheonji Church|              1|        -|         -|\n",
      "| 1000028|            Seoul|from other city| true|Anyang Gunpo Past...|              1|        -|         -|\n",
      "| 1000025|            Seoul|     Gangnam-gu| true|Gangnam Dongin Ch...|              1|37.522331|127.057388|\n",
      "| 1700003|           Sejong|from other city| true|  Shincheonji Church|              1|        -|         -|\n",
      "| 5100002|     Jeollanam-do|from other city| true|  Shincheonji Church|              1|        -|         -|\n",
      "| 7000004|          Jeju-do|from other city| true|       Itaewon Clubs|              1|        -|         -|\n",
      "| 1000019|            Seoul|from other city| true|Daejeon door-to-d...|              1|        -|         -|\n",
      "| 1000034|            Seoul|              -| true|         Orange Life|              1|        -|         -|\n",
      "| 1700006|           Sejong|              -|false|                 etc|              1|        -|         -|\n",
      "| 1300005|          Gwangju|              -|false|                 etc|              1|        -|         -|\n",
      "| 1200006|            Daegu|from other city| true|       Itaewon Clubs|              2|        -|         -|\n",
      "| 1200007|            Daegu|from other city| true|Cheongdo Daenam H...|              2|        -|         -|\n",
      "| 1400004|          Incheon|from other city| true|  Shincheonji Church|              2|        -|         -|\n",
      "| 1000033|            Seoul|from other city| true|Uiwang Logistics ...|              2|        -|         -|\n",
      "| 1500006|          Daejeon|from other city| true|  Shincheonji Church|              2|        -|         -|\n",
      "| 4000003|Chungcheongbuk-do|from other city| true| Guro-gu Call Center|              2|        -|         -|\n",
      "+--------+-----------------+---------------+-----+--------------------+---------------+---------+----------+\n",
      "only showing top 20 rows\n",
      "\n"
     ]
    }
   ],
   "source": [
    "covid_datas.sort('confirmed_cases').show()"
   ]
  },
  {
   "cell_type": "code",
   "execution_count": 10,
   "id": "18935eb1",
   "metadata": {},
   "outputs": [
    {
     "name": "stdout",
     "output_type": "stream",
     "text": [
      "+--------+-----------------+---------------+-----+--------------------+---------------+---------+----------+\n",
      "| case_id|         province|           city|group|     continment_area|confirmed_cases| latitude| longitude|\n",
      "+--------+-----------------+---------------+-----+--------------------+---------------+---------+----------+\n",
      "| 1200001|            Daegu|         Nam-gu| true|  Shincheonji Church|           4511| 35.84008|  128.5667|\n",
      "| 1200009|            Daegu|              -|false|contact with patient|            917|        -|         -|\n",
      "| 1200010|            Daegu|              -|false|                 etc|            747|        -|         -|\n",
      "| 6000001| Gyeongsangbuk-do|from other city| true|  Shincheonji Church|            566|        -|         -|\n",
      "| 2000020|      Gyeonggi-do|              -|false|     overseas inflow|            305|        -|         -|\n",
      "| 1000036|            Seoul|              -|false|     overseas inflow|            298|        -|         -|\n",
      "| 1200002|            Daegu|   Dalseong-gun| true|Second Mi-Ju Hosp...|            196|35.857375|128.466651|\n",
      "| 6000012| Gyeongsangbuk-do|              -|false|contact with patient|            190|        -|         -|\n",
      "| 1000037|            Seoul|              -|false|contact with patient|            162|        -|         -|\n",
      "| 1000001|            Seoul|     Yongsan-gu| true|       Itaewon Clubs|            139|37.538621|126.992652|\n",
      "| 6000013| Gyeongsangbuk-do|              -|false|                 etc|            133|        -|         -|\n",
      "| 1200003|            Daegu|         Seo-gu| true|Hansarang Convale...|            124|35.885592|128.556649|\n",
      "| 1000002|            Seoul|      Gwanak-gu| true|             Richway|            119| 37.48208|126.901384|\n",
      "| 6000002| Gyeongsangbuk-do|   Cheongdo-gun| true|Cheongdo Daenam H...|            119| 35.64887|  128.7368|\n",
      "| 4100001|Chungcheongnam-do|     Cheonan-si| true|gym facility in C...|            103| 36.81503|  127.1139|\n",
      "| 1200004|            Daegu|   Dalseong-gun| true|Daesil Convalesce...|            101|35.857393|128.466653|\n",
      "| 1000038|            Seoul|              -|false|                 etc|            100|        -|         -|\n",
      "| 1000003|            Seoul|        Guro-gu| true| Guro-gu Call Center|             95|37.508163|126.884387|\n",
      "| 2000022|      Gyeonggi-do|              -|false|                 etc|             84|        -|         -|\n",
      "| 1400005|          Incheon|              -|false|     overseas inflow|             68|        -|         -|\n",
      "+--------+-----------------+---------------+-----+--------------------+---------------+---------+----------+\n",
      "only showing top 20 rows\n",
      "\n"
     ]
    }
   ],
   "source": [
    "covid_datas.sort(desc('confirmed_cases')).show()"
   ]
  },
  {
   "cell_type": "markdown",
   "id": "4ad0d13a",
   "metadata": {},
   "source": [
    " #### Change data types "
   ]
  },
  {
   "cell_type": "code",
   "execution_count": 12,
   "id": "bc5e2ff4",
   "metadata": {},
   "outputs": [
    {
     "name": "stdout",
     "output_type": "stream",
     "text": [
      "root\n",
      " |--  case_id: integer (nullable = true)\n",
      " |-- province: string (nullable = true)\n",
      " |-- city: string (nullable = true)\n",
      " |-- group: boolean (nullable = true)\n",
      " |-- continment_area: string (nullable = true)\n",
      " |-- confirmed_cases: integer (nullable = true)\n",
      " |-- latitude: string (nullable = true)\n",
      " |-- longitude: string (nullable = true)\n",
      "\n"
     ]
    }
   ],
   "source": [
    "covid_datas.printSchema()"
   ]
  },
  {
   "cell_type": "code",
   "execution_count": 15,
   "id": "acebd0c6",
   "metadata": {},
   "outputs": [
    {
     "name": "stdout",
     "output_type": "stream",
     "text": [
      "root\n",
      " |--  case_id: integer (nullable = true)\n",
      " |-- province: string (nullable = true)\n",
      " |-- city: string (nullable = true)\n",
      " |-- group: boolean (nullable = true)\n",
      " |-- continment_area: string (nullable = true)\n",
      " |-- confirmed_cases: integer (nullable = true)\n",
      " |-- latitude: string (nullable = true)\n",
      " |-- longitude: string (nullable = true)\n",
      "\n"
     ]
    }
   ],
   "source": [
    "covid_datas.withColumn(\"confirmed_cases\", col(\"confirmed_cases\").cast(IntegerType()))\n",
    "covid_datas.printSchema()"
   ]
  },
  {
   "cell_type": "code",
   "execution_count": 16,
   "id": "070a288f",
   "metadata": {},
   "outputs": [
    {
     "name": "stdout",
     "output_type": "stream",
     "text": [
      "root\n",
      " |--  case_id: integer (nullable = true)\n",
      " |-- province: string (nullable = true)\n",
      " |-- city: string (nullable = true)\n",
      " |-- group: boolean (nullable = true)\n",
      " |-- continment_area: string (nullable = true)\n",
      " |-- confirmed_cases: integer (nullable = true)\n",
      " |-- latitude: string (nullable = true)\n",
      " |-- longitude: string (nullable = true)\n",
      "\n"
     ]
    }
   ],
   "source": [
    "data = covid_datas.withColumn(\"confirmed_cases\", col(\"confirmed_cases\").cast(IntegerType()))\\\n",
    "                  .withColumn(\"city\", col(\"city\").cast(StringType()))\n",
    "data.printSchema()\n"
   ]
  },
  {
   "cell_type": "code",
   "execution_count": 54,
   "id": "9d640c5a",
   "metadata": {},
   "outputs": [
    {
     "name": "stdout",
     "output_type": "stream",
     "text": [
      "+---------------+------------------+\n",
      "|confirmed_cases|NewconfirmaedCases|\n",
      "+---------------+------------------+\n",
      "|            139|               239|\n",
      "|            119|               219|\n",
      "|             95|               195|\n",
      "|             43|               143|\n",
      "|             43|               143|\n",
      "|             41|               141|\n",
      "|             36|               136|\n",
      "|             17|               117|\n",
      "|             25|               125|\n",
      "|             30|               130|\n",
      "|             14|               114|\n",
      "|             13|               113|\n",
      "|             10|               110|\n",
      "|              7|               107|\n",
      "|              7|               107|\n",
      "|              5|               105|\n",
      "|              7|               107|\n",
      "|              6|               106|\n",
      "|              1|               101|\n",
      "|              6|               106|\n",
      "+---------------+------------------+\n",
      "only showing top 20 rows\n",
      "\n"
     ]
    }
   ],
   "source": [
    "data_new = data.withColumn('NewconfirmaedCases', 100 + col('confirmed_cases'))\n",
    "data_new['confirmed_cases','NewconfirmaedCases'].show()"
   ]
  },
  {
   "cell_type": "markdown",
   "id": "b0f9fe5d",
   "metadata": {},
   "source": [
    "#### 3.Applying filters and transformations\n"
   ]
  },
  {
   "cell_type": "code",
   "execution_count": 23,
   "id": "ba847aa6",
   "metadata": {},
   "outputs": [
    {
     "name": "stdout",
     "output_type": "stream",
     "text": [
      "+--------+--------+---------------+-----+--------------------+---------------+---------+----------+\n",
      "| case_id|province|           city|group|     continment_area|confirmed_cases| latitude| longitude|\n",
      "+--------+--------+---------------+-----+--------------------+---------------+---------+----------+\n",
      "| 1000001|   Seoul|     Yongsan-gu| true|       Itaewon Clubs|            139|37.538621|126.992652|\n",
      "| 1000002|   Seoul|      Gwanak-gu| true|             Richway|            119| 37.48208|126.901384|\n",
      "| 1000003|   Seoul|        Guro-gu| true| Guro-gu Call Center|             95|37.508163|126.884387|\n",
      "| 1000004|   Seoul|   Yangcheon-gu| true|Yangcheon Table T...|             43|37.546061|126.874209|\n",
      "| 1000005|   Seoul|      Dobong-gu| true|     Day Care Center|             43|37.679422|127.044374|\n",
      "| 1000006|   Seoul|        Guro-gu| true|Manmin Central Ch...|             41|37.481059|126.894343|\n",
      "| 1000007|   Seoul|from other city| true|SMR Newly Planted...|             36|        -|         -|\n",
      "| 1000036|   Seoul|              -|false|     overseas inflow|            298|        -|         -|\n",
      "| 1000037|   Seoul|              -|false|contact with patient|            162|        -|         -|\n",
      "| 1000038|   Seoul|              -|false|                 etc|            100|        -|         -|\n",
      "| 1100001|   Busan|     Dongnae-gu| true|       Onchun Church|             39| 35.21628|  129.0771|\n",
      "| 1100008|   Busan|              -|false|     overseas inflow|             36|        -|         -|\n",
      "| 1200001|   Daegu|         Nam-gu| true|  Shincheonji Church|           4511| 35.84008|  128.5667|\n",
      "| 1200002|   Daegu|   Dalseong-gun| true|Second Mi-Ju Hosp...|            196|35.857375|128.466651|\n",
      "| 1200003|   Daegu|         Seo-gu| true|Hansarang Convale...|            124|35.885592|128.556649|\n",
      "| 1200004|   Daegu|   Dalseong-gun| true|Daesil Convalesce...|            101|35.857393|128.466653|\n",
      "| 1200005|   Daegu|        Dong-gu| true|     Fatima Hospital|             39| 35.88395|128.624059|\n",
      "| 1200008|   Daegu|              -|false|     overseas inflow|             41|        -|         -|\n",
      "| 1200009|   Daegu|              -|false|contact with patient|            917|        -|         -|\n",
      "| 1200010|   Daegu|              -|false|                 etc|            747|        -|         -|\n",
      "+--------+--------+---------------+-----+--------------------+---------------+---------+----------+\n",
      "only showing top 20 rows\n",
      "\n"
     ]
    }
   ],
   "source": [
    "data.filter((data.confirmed_cases > 30)).show()"
   ]
  },
  {
   "cell_type": "code",
   "execution_count": 26,
   "id": "aa5cd24c",
   "metadata": {},
   "outputs": [
    {
     "name": "stdout",
     "output_type": "stream",
     "text": [
      "+--------+-----------------+---------------+-----+--------------------+---------------+---------+----------+\n",
      "| case_id|         province|           city|group|     continment_area|confirmed_cases| latitude| longitude|\n",
      "+--------+-----------------+---------------+-----+--------------------+---------------+---------+----------+\n",
      "| 1000034|            Seoul|              -| true|         Orange Life|              1|        -|         -|\n",
      "| 2000011|      Gyeonggi-do|      Anyang-si| true|Anyang Gunpo Past...|             22|37.381784| 126.93615|\n",
      "| 6000003| Gyeongsangbuk-do|    Bonghwa-gun| true|Bonghwa Pureun Nu...|             68| 36.92757|  128.9099|\n",
      "| 2000002|      Gyeonggi-do|     Bucheon-si| true|Coupang Logistics...|             67|37.530579|126.775254|\n",
      "| 6100006| Gyeongsangnam-do|Changnyeong-gun| true|Changnyeong Coin ...|              7| 35.54127|  128.5008|\n",
      "| 6100005| Gyeongsangnam-do|    Changwon-si| true|Hanmaeum Changwon...|              7| 35.22115|  128.6866|\n",
      "| 4100001|Chungcheongnam-do|     Cheonan-si| true|gym facility in C...|            103| 36.81503|  127.1139|\n",
      "| 6000002| Gyeongsangbuk-do|   Cheongdo-gun| true|Cheongdo Daenam H...|            119| 35.64887|  128.7368|\n",
      "| 6000007| Gyeongsangbuk-do|    Chilgok-gun| true|       Milal Shelter|             36|  36.0581|  128.4941|\n",
      "| 1200002|            Daegu|   Dalseong-gun| true|Second Mi-Ju Hosp...|            196|35.857375|128.466651|\n",
      "| 1000005|            Seoul|      Dobong-gu| true|     Day Care Center|             43|37.679422|127.044374|\n",
      "| 1200005|            Daegu|        Dong-gu| true|     Fatima Hospital|             39| 35.88395|128.624059|\n",
      "| 1000008|            Seoul|  Dongdaemun-gu| true|       Dongan Church|             17|37.592888|127.056766|\n",
      "| 1100001|            Busan|     Dongnae-gu| true|       Onchun Church|             39| 35.21628|  129.0771|\n",
      "| 1000011|            Seoul|   Eunpyeong-gu| true|Eunpyeong St. Mar...|             14| 37.63369|  126.9165|\n",
      "| 1000014|            Seoul|     Gangnam-gu| true|Samsung Medical C...|              7| 37.48825| 127.08559|\n",
      "| 1000030|            Seoul|     Gangseo-gu| true|SJ Investment Cal...|              0|37.559649|126.835102|\n",
      "| 6100002| Gyeongsangnam-do|   Geochang-gun| true|     Geochang Church|             10| 35.68556|  127.9127|\n",
      "| 1000020|            Seoul|   Geumcheon-gu| true|Geumcheon-gu rice...|              6|        -|         -|\n",
      "| 4000001|Chungcheongbuk-do|     Goesan-gun| true|Goesan-gun Jangye...|             11| 36.82422|  127.9552|\n",
      "+--------+-----------------+---------------+-----+--------------------+---------------+---------+----------+\n",
      "only showing top 20 rows\n",
      "\n"
     ]
    }
   ],
   "source": [
    "data.dropDuplicates(['city']).show()"
   ]
  },
  {
   "cell_type": "code",
   "execution_count": 27,
   "id": "97598778",
   "metadata": {},
   "outputs": [
    {
     "name": "stdout",
     "output_type": "stream",
     "text": [
      "+--------+-----------+----------+-----+--------------------+---------------+---------+----------+\n",
      "| case_id|   province|      city|group|     continment_area|confirmed_cases| latitude| longitude|\n",
      "+--------+-----------+----------+-----+--------------------+---------------+---------+----------+\n",
      "| 2000002|Gyeonggi-do|Bucheon-si| true|Coupang Logistics...|             67|37.530579|126.775254|\n",
      "+--------+-----------+----------+-----+--------------------+---------------+---------+----------+\n",
      "\n"
     ]
    }
   ],
   "source": [
    "data.filter((data.confirmed_cases > 30) & (data.city=='Bucheon-si')).show()"
   ]
  },
  {
   "cell_type": "code",
   "execution_count": 31,
   "id": "709d6ce9",
   "metadata": {},
   "outputs": [
    {
     "name": "stdout",
     "output_type": "stream",
     "text": [
      "+---------------+\n",
      "|           city|\n",
      "+---------------+\n",
      "|     Gangnam-gu|\n",
      "|     Cheonan-si|\n",
      "|from other city|\n",
      "|      Anyang-si|\n",
      "|      Gwanak-gu|\n",
      "|     Yongsan-gu|\n",
      "|        Dong-gu|\n",
      "|         Sejong|\n",
      "|     Gangseo-gu|\n",
      "|       Wonju-si|\n",
      "|     Suyeong-gu|\n",
      "|   Geochang-gun|\n",
      "|  Dongdaemun-gu|\n",
      "|     Dongnae-gu|\n",
      "|         Jin-gu|\n",
      "|     Yangsan-si|\n",
      "|    Changwon-si|\n",
      "|         Nam-gu|\n",
      "|   Gyeongsan-si|\n",
      "|      Jongno-gu|\n",
      "+---------------+\n",
      "only showing top 20 rows\n",
      "\n"
     ]
    }
   ],
   "source": [
    "data.select('city').distinct().show()"
   ]
  },
  {
   "cell_type": "code",
   "execution_count": 32,
   "id": "02c91883",
   "metadata": {},
   "outputs": [
    {
     "name": "stdout",
     "output_type": "stream",
     "text": [
      "+---------------+-----+\n",
      "|           city|count|\n",
      "+---------------+-----+\n",
      "|     Gangnam-gu|    4|\n",
      "|     Cheonan-si|    1|\n",
      "|from other city|   51|\n",
      "|      Anyang-si|    2|\n",
      "|      Gwanak-gu|    2|\n",
      "|     Yongsan-gu|    1|\n",
      "|        Dong-gu|    2|\n",
      "|         Sejong|    2|\n",
      "|     Gangseo-gu|    1|\n",
      "|       Wonju-si|    1|\n",
      "|     Suyeong-gu|    1|\n",
      "|   Geochang-gun|    2|\n",
      "|  Dongdaemun-gu|    1|\n",
      "|     Dongnae-gu|    1|\n",
      "|         Jin-gu|    1|\n",
      "|     Yangsan-si|    1|\n",
      "|    Changwon-si|    1|\n",
      "|         Nam-gu|    1|\n",
      "|   Gyeongsan-si|    3|\n",
      "|      Jongno-gu|    2|\n",
      "+---------------+-----+\n",
      "only showing top 20 rows\n",
      "\n"
     ]
    }
   ],
   "source": [
    "data.groupBy('city').count().show()"
   ]
  },
  {
   "cell_type": "code",
   "execution_count": 35,
   "id": "b09848b3",
   "metadata": {},
   "outputs": [
    {
     "name": "stdout",
     "output_type": "stream",
     "text": [
      "+---------------+-----+\n",
      "|           city|count|\n",
      "+---------------+-----+\n",
      "|              -|   53|\n",
      "|from other city|   51|\n",
      "|         Seo-gu|    5|\n",
      "|     Gangnam-gu|    4|\n",
      "|   Gyeongsan-si|    3|\n",
      "|        Jung-gu|    3|\n",
      "|        Guro-gu|    3|\n",
      "|    Seongnam-si|    3|\n",
      "|         Sejong|    2|\n",
      "|      Anyang-si|    2|\n",
      "|   Geochang-gun|    2|\n",
      "|      Jongno-gu|    2|\n",
      "|       Suwon-si|    2|\n",
      "|      Gwanak-gu|    2|\n",
      "|   Yangcheon-gu|    2|\n",
      "|   Dalseong-gun|    2|\n",
      "|        Dong-gu|    2|\n",
      "|     Cheonan-si|    1|\n",
      "|     Yongsan-gu|    1|\n",
      "|     Gangseo-gu|    1|\n",
      "+---------------+-----+\n",
      "only showing top 20 rows\n",
      "\n"
     ]
    }
   ],
   "source": [
    "data.groupBy('city').count().orderBy(desc(\"count\")).show()"
   ]
  },
  {
   "cell_type": "code",
   "execution_count": 37,
   "id": "c9ff3a7a",
   "metadata": {},
   "outputs": [
    {
     "name": "stdout",
     "output_type": "stream",
     "text": [
      "+----------------+---------------+--------------------+--------------------+\n",
      "|        province|           city|sum(confirmed_cases)|max(confirmed_cases)|\n",
      "+----------------+---------------+--------------------+--------------------+\n",
      "|Gyeongsangnam-do|       Jinju-si|                   9|                   9|\n",
      "|           Seoul|        Guro-gu|                 139|                  95|\n",
      "|           Seoul|     Gangnam-gu|                  18|                   7|\n",
      "|         Daejeon|              -|                 100|                  55|\n",
      "|    Jeollabuk-do|from other city|                   6|                   3|\n",
      "|Gyeongsangnam-do|Changnyeong-gun|                   7|                   7|\n",
      "|           Seoul|              -|                 561|                 298|\n",
      "|         Jeju-do|from other city|                   1|                   1|\n",
      "|Gyeongsangbuk-do|              -|                 345|                 190|\n",
      "|Gyeongsangnam-do|   Geochang-gun|                  18|                  10|\n",
      "|Gyeongsangbuk-do|        Gumi-si|                  10|                  10|\n",
      "|         Incheon|from other city|                 117|                  53|\n",
      "|           Busan|              -|                  85|                  36|\n",
      "|           Daegu|         Seo-gu|                 124|                 124|\n",
      "|           Busan|     Suyeong-gu|                   5|                   5|\n",
      "|     Gyeonggi-do|   Uijeongbu-si|                  50|                  50|\n",
      "|           Seoul|     Yongsan-gu|                 139|                 139|\n",
      "|           Daegu|              -|                1705|                 917|\n",
      "|           Seoul|   Seodaemun-gu|                   5|                   5|\n",
      "|     Gyeonggi-do|    Seongnam-si|                  94|                  67|\n",
      "+----------------+---------------+--------------------+--------------------+\n",
      "only showing top 20 rows\n",
      "\n"
     ]
    }
   ],
   "source": [
    "data.groupBy(['province','city']).agg(sum('confirmed_cases'), max('confirmed_cases')).show()"
   ]
  },
  {
   "cell_type": "code",
   "execution_count": 38,
   "id": "46ff2413",
   "metadata": {},
   "outputs": [
    {
     "name": "stdout",
     "output_type": "stream",
     "text": [
      "+----------------+---------------+---------------------+-------------------+\n",
      "|        province|           city|Total_Confirmed_Cases|Max_Confirmed_Cases|\n",
      "+----------------+---------------+---------------------+-------------------+\n",
      "|Gyeongsangnam-do|       Jinju-si|                    9|                  9|\n",
      "|           Seoul|        Guro-gu|                  139|                 95|\n",
      "|           Seoul|     Gangnam-gu|                   18|                  7|\n",
      "|         Daejeon|              -|                  100|                 55|\n",
      "|    Jeollabuk-do|from other city|                    6|                  3|\n",
      "|Gyeongsangnam-do|Changnyeong-gun|                    7|                  7|\n",
      "|           Seoul|              -|                  561|                298|\n",
      "|         Jeju-do|from other city|                    1|                  1|\n",
      "|Gyeongsangbuk-do|              -|                  345|                190|\n",
      "|Gyeongsangnam-do|   Geochang-gun|                   18|                 10|\n",
      "|Gyeongsangbuk-do|        Gumi-si|                   10|                 10|\n",
      "|         Incheon|from other city|                  117|                 53|\n",
      "|           Busan|              -|                   85|                 36|\n",
      "|           Daegu|         Seo-gu|                  124|                124|\n",
      "|           Busan|     Suyeong-gu|                    5|                  5|\n",
      "|     Gyeonggi-do|   Uijeongbu-si|                   50|                 50|\n",
      "|           Seoul|     Yongsan-gu|                  139|                139|\n",
      "|           Daegu|              -|                 1705|                917|\n",
      "|           Seoul|   Seodaemun-gu|                    5|                  5|\n",
      "|     Gyeonggi-do|    Seongnam-si|                   94|                 67|\n",
      "+----------------+---------------+---------------------+-------------------+\n",
      "only showing top 20 rows\n",
      "\n"
     ]
    }
   ],
   "source": [
    "data.groupBy(['province','city']).agg(sum('confirmed_cases').alias('Total_Confirmed_Cases'),\\\n",
    "                                      max('confirmed_cases').alias('Max_Confirmed_Cases')).show()"
   ]
  },
  {
   "cell_type": "markdown",
   "id": "6e66f264",
   "metadata": {},
   "source": [
    "#### 4.Performing joins"
   ]
  },
  {
   "cell_type": "code",
   "execution_count": 42,
   "id": "9de0ce77",
   "metadata": {},
   "outputs": [
    {
     "name": "stdout",
     "output_type": "stream",
     "text": [
      "+-----+--------+-------------+---------+----------+-----------------------+------------------+----------------+-------------+------------------------+-------------------+------------------+\n",
      "| code|province|         city| latitude| longitude|elementary_school_count|kindergarten_count|university_count|academy_ratio|elderly_population_ratio|elderly_alone_ratio|nursing_home_count|\n",
      "+-----+--------+-------------+---------+----------+-----------------------+------------------+----------------+-------------+------------------------+-------------------+------------------+\n",
      "|10000|   Seoul|        Seoul|37.566953|126.977977|                    607|               830|              48|         1.44|                   15.38|                5.8|             22739|\n",
      "|10010|   Seoul|   Gangnam-gu|37.518421|127.047222|                     33|                38|               0|         4.18|                   13.17|                4.3|              3088|\n",
      "|10020|   Seoul|  Gangdong-gu|37.530492|127.123837|                     27|                32|               0|         1.54|                   14.55|                5.4|              1023|\n",
      "|10030|   Seoul|   Gangbuk-gu|37.639938|127.025508|                     14|                21|               0|         0.67|                   19.49|                8.5|               628|\n",
      "|10040|   Seoul|   Gangseo-gu|37.551166|126.849506|                     36|                56|               1|         1.17|                   14.39|                5.7|              1080|\n",
      "|10050|   Seoul|    Gwanak-gu| 37.47829|126.951502|                     22|                33|               1|         0.89|                   15.12|                4.9|               909|\n",
      "|10060|   Seoul|  Gwangjin-gu|37.538712|127.082366|                     22|                33|               3|         1.16|                   13.75|                4.8|               723|\n",
      "|10070|   Seoul|      Guro-gu|37.495632| 126.88765|                     26|                34|               3|          1.0|                   16.21|                5.7|               741|\n",
      "|10080|   Seoul| Geumcheon-gu|37.456852|126.895229|                     18|                19|               0|         0.96|                   16.15|                6.7|               475|\n",
      "|10090|   Seoul|     Nowon-gu|37.654259|127.056294|                     42|                66|               6|         1.39|                    15.4|                7.4|               952|\n",
      "|10100|   Seoul|    Dobong-gu|37.668952|127.047082|                     23|                26|               1|         0.95|                   17.89|                7.2|               485|\n",
      "|10110|   Seoul|Dongdaemun-gu|37.574552|127.039721|                     21|                31|               4|         1.06|                   17.26|                6.7|               832|\n",
      "|10120|   Seoul|   Dongjak-gu|37.510571|126.963604|                     21|                34|               3|         1.17|                   15.85|                5.2|               762|\n",
      "|10130|   Seoul|      Mapo-gu|37.566283|126.901644|                     22|                24|               2|         1.83|                   14.05|                4.9|               929|\n",
      "|10140|   Seoul| Seodaemun-gu|37.579428|126.936771|                     19|                25|               6|         1.12|                   16.77|                6.2|               587|\n",
      "|10150|   Seoul|    Seocho-gu|37.483804|127.032693|                     24|                27|               1|          2.6|                   13.39|                3.8|              1465|\n",
      "|10160|   Seoul| Seongdong-gu|37.563277|127.036647|                     21|                30|               2|         0.97|                   14.76|                5.3|               593|\n",
      "|10170|   Seoul|  Seongbuk-gu|37.589562|  127.0167|                     29|                49|               6|         1.02|                   16.15|                6.0|               729|\n",
      "|10180|   Seoul|    Songpa-gu| 37.51462|127.106141|                     40|                51|               1|         1.65|                    13.1|                4.1|              1527|\n",
      "|10190|   Seoul| Yangcheon-gu|37.517189|126.866618|                     30|                43|               0|         2.26|                   13.55|                5.5|               816|\n",
      "+-----+--------+-------------+---------+----------+-----------------------+------------------+----------------+-------------+------------------------+-------------------+------------------+\n",
      "only showing top 20 rows\n",
      "\n"
     ]
    }
   ],
   "source": [
    "region = spark.read.load(\"./source_data/Region.csv\", format='csv', sep=',', inferschema=True, header=True)\n",
    "region.show()"
   ]
  },
  {
   "cell_type": "code",
   "execution_count": 44,
   "id": "88ca74d7",
   "metadata": {},
   "outputs": [
    {
     "name": "stdout",
     "output_type": "stream",
     "text": [
      "+--------+---------------+--------+-----+--------------------+---------------+---------+----------+-----+---------+----------+-----------------------+------------------+----------------+-------------+------------------------+-------------------+------------------+\n",
      "|province|           city| case_id|group|     continment_area|confirmed_cases| latitude| longitude| code| latitude| longitude|elementary_school_count|kindergarten_count|university_count|academy_ratio|elderly_population_ratio|elderly_alone_ratio|nursing_home_count|\n",
      "+--------+---------------+--------+-----+--------------------+---------------+---------+----------+-----+---------+----------+-----------------------+------------------+----------------+-------------+------------------------+-------------------+------------------+\n",
      "|   Seoul|     Yongsan-gu| 1000001| true|       Itaewon Clubs|            139|37.538621|126.992652|10210|37.532768|126.990021|                     15|                13|               1|         0.68|                   16.87|                6.5|               435|\n",
      "|   Seoul|      Gwanak-gu| 1000002| true|             Richway|            119| 37.48208|126.901384|10050| 37.47829|126.951502|                     22|                33|               1|         0.89|                   15.12|                4.9|               909|\n",
      "|   Seoul|        Guro-gu| 1000003| true| Guro-gu Call Center|             95|37.508163|126.884387|10070|37.495632| 126.88765|                     26|                34|               3|          1.0|                   16.21|                5.7|               741|\n",
      "|   Seoul|   Yangcheon-gu| 1000004| true|Yangcheon Table T...|             43|37.546061|126.874209|10190|37.517189|126.866618|                     30|                43|               0|         2.26|                   13.55|                5.5|               816|\n",
      "|   Seoul|      Dobong-gu| 1000005| true|     Day Care Center|             43|37.679422|127.044374|10100|37.668952|127.047082|                     23|                26|               1|         0.95|                   17.89|                7.2|               485|\n",
      "|   Seoul|        Guro-gu| 1000006| true|Manmin Central Ch...|             41|37.481059|126.894343|10070|37.495632| 126.88765|                     26|                34|               3|          1.0|                   16.21|                5.7|               741|\n",
      "|   Seoul|from other city| 1000007| true|SMR Newly Planted...|             36|        -|         -| null|     null|      null|                   null|              null|            null|         null|                    null|               null|              null|\n",
      "|   Seoul|  Dongdaemun-gu| 1000008| true|       Dongan Church|             17|37.592888|127.056766|10110|37.574552|127.039721|                     21|                31|               4|         1.06|                   17.26|                6.7|               832|\n",
      "|   Seoul|from other city| 1000009| true|Coupang Logistics...|             25|        -|         -| null|     null|      null|                   null|              null|            null|         null|                    null|               null|              null|\n",
      "|   Seoul|      Gwanak-gu| 1000010| true|     Wangsung Church|             30|37.481735|126.930121|10050| 37.47829|126.951502|                     22|                33|               1|         0.89|                   15.12|                4.9|               909|\n",
      "|   Seoul|   Eunpyeong-gu| 1000011| true|Eunpyeong St. Mar...|             14| 37.63369|  126.9165|10220|37.603481|126.929173|                     31|                44|               1|         1.09|                    17.0|                6.5|               874|\n",
      "|   Seoul|   Seongdong-gu| 1000012| true|    Seongdong-gu APT|             13| 37.55713|  127.0403|10160|37.563277|127.036647|                     21|                30|               2|         0.97|                   14.76|                5.3|               593|\n",
      "|   Seoul|      Jongno-gu| 1000013| true|Jongno Community ...|             10| 37.57681|   127.006|10230|37.572999|126.979189|                     13|                17|               3|         1.71|                   18.27|                6.8|               668|\n",
      "|   Seoul|     Gangnam-gu| 1000014| true|Samsung Medical C...|              7| 37.48825| 127.08559|10010|37.518421|127.047222|                     33|                38|               0|         4.18|                   13.17|                4.3|              3088|\n",
      "|   Seoul|        Jung-gu| 1000015| true|Jung-gu Fashion C...|              7|37.562405|126.984377|10240|37.563988| 126.99753|                     12|                14|               2|         0.94|                   18.42|                7.4|               728|\n",
      "|   Seoul|   Seodaemun-gu| 1000016| true|  Yeonana News Class|              5|37.558147|126.943799|10140|37.579428|126.936771|                     19|                25|               6|         1.12|                   16.77|                6.2|               587|\n",
      "|   Seoul|      Jongno-gu| 1000017| true|Korea Campus Crus...|              7|37.594782|126.968022|10230|37.572999|126.979189|                     13|                17|               3|         1.71|                   18.27|                6.8|               668|\n",
      "|   Seoul|     Gangnam-gu| 1000018| true|Gangnam Yeoksam-d...|              6|        -|         -|10010|37.518421|127.047222|                     33|                38|               0|         4.18|                   13.17|                4.3|              3088|\n",
      "|   Seoul|from other city| 1000019| true|Daejeon door-to-d...|              1|        -|         -| null|     null|      null|                   null|              null|            null|         null|                    null|               null|              null|\n",
      "|   Seoul|   Geumcheon-gu| 1000020| true|Geumcheon-gu rice...|              6|        -|         -|10080|37.456852|126.895229|                     18|                19|               0|         0.96|                   16.15|                6.7|               475|\n",
      "+--------+---------------+--------+-----+--------------------+---------------+---------+----------+-----+---------+----------+-----------------------+------------------+----------------+-------------+------------------------+-------------------+------------------+\n",
      "only showing top 20 rows\n",
      "\n"
     ]
    }
   ],
   "source": [
    "data_region = data.join(region,['province','city'], how='left')\n",
    "data_region.show()"
   ]
  },
  {
   "cell_type": "code",
   "execution_count": 45,
   "id": "1d7dce15",
   "metadata": {},
   "outputs": [
    {
     "name": "stdout",
     "output_type": "stream",
     "text": [
      "+--------+---------------+--------+-----+--------------------+---------------+--------+---------+\n",
      "|province|           city| case_id|group|     continment_area|confirmed_cases|latitude|longitude|\n",
      "+--------+---------------+--------+-----+--------------------+---------------+--------+---------+\n",
      "|   Seoul|from other city| 1000007| true|SMR Newly Planted...|             36|       -|        -|\n",
      "|   Seoul|from other city| 1000009| true|Coupang Logistics...|             25|       -|        -|\n",
      "|   Seoul|from other city| 1000019| true|Daejeon door-to-d...|              1|       -|        -|\n",
      "|   Seoul|from other city| 1000021| true|  Shincheonji Church|              8|       -|        -|\n",
      "|   Seoul|from other city| 1000022| true|Guri Collective I...|              5|       -|        -|\n",
      "|   Seoul|from other city| 1000028| true|Anyang Gunpo Past...|              1|       -|        -|\n",
      "|   Seoul|from other city| 1000031| true|     Yongin Brothers|              4|       -|        -|\n",
      "|   Seoul|from other city| 1000033| true|Uiwang Logistics ...|              2|       -|        -|\n",
      "|   Seoul|              -| 1000034| true|         Orange Life|              1|       -|        -|\n",
      "|   Seoul|              -| 1000036|false|     overseas inflow|            298|       -|        -|\n",
      "|   Seoul|              -| 1000037|false|contact with patient|            162|       -|        -|\n",
      "|   Seoul|              -| 1000038|false|                 etc|            100|       -|        -|\n",
      "|   Busan|from other city| 1100002| true|  Shincheonji Church|             12|       -|        -|\n",
      "|   Busan|         Jin-gu| 1100005| true|      Jin-gu Academy|              4|35.17371| 129.0633|\n",
      "|   Busan|from other city| 1100006| true|       Itaewon Clubs|              4|       -|        -|\n",
      "|   Busan|from other city| 1100007| true|Cheongdo Daenam H...|              1|       -|        -|\n",
      "|   Busan|              -| 1100008|false|     overseas inflow|             36|       -|        -|\n",
      "|   Busan|              -| 1100009|false|contact with patient|             19|       -|        -|\n",
      "|   Busan|              -| 1100010|false|                 etc|             30|       -|        -|\n",
      "|   Daegu|from other city| 1200006| true|       Itaewon Clubs|              2|       -|        -|\n",
      "+--------+---------------+--------+-----+--------------------+---------------+--------+---------+\n",
      "only showing top 20 rows\n",
      "\n"
     ]
    }
   ],
   "source": [
    "data_region_anti_left = data.join(region,['province','city'], how='left_anti')\n",
    "data_region_anti_left.show()"
   ]
  },
  {
   "cell_type": "code",
   "execution_count": 47,
   "id": "85c66b77",
   "metadata": {},
   "outputs": [
    {
     "data": {
      "text/plain": [
       "174"
      ]
     },
     "execution_count": 47,
     "metadata": {},
     "output_type": "execute_result"
    }
   ],
   "source": [
    "data.count()"
   ]
  },
  {
   "cell_type": "code",
   "execution_count": 48,
   "id": "15dc3fdd",
   "metadata": {},
   "outputs": [
    {
     "data": {
      "text/plain": [
       "244"
      ]
     },
     "execution_count": 48,
     "metadata": {},
     "output_type": "execute_result"
    }
   ],
   "source": [
    "region.count()"
   ]
  },
  {
   "cell_type": "markdown",
   "id": "8e0ded29",
   "metadata": {},
   "source": [
    "##### Performance Optimization in Joins\n",
    " ###### Use Broadcast Join for small DataFrames:\n"
   ]
  },
  {
   "cell_type": "code",
   "execution_count": 51,
   "id": "f6b4d22b",
   "metadata": {},
   "outputs": [
    {
     "name": "stdout",
     "output_type": "stream",
     "text": [
      "+--------+---------------+-----+---------+----------+-----------------------+------------------+----------------+-------------+------------------------+-------------------+------------------+--------+-----+--------------------+---------------+---------+----------+\n",
      "|province|           city| code| latitude| longitude|elementary_school_count|kindergarten_count|university_count|academy_ratio|elderly_population_ratio|elderly_alone_ratio|nursing_home_count| case_id|group|     continment_area|confirmed_cases| latitude| longitude|\n",
      "+--------+---------------+-----+---------+----------+-----------------------+------------------+----------------+-------------+------------------------+-------------------+------------------+--------+-----+--------------------+---------------+---------+----------+\n",
      "|   Seoul|     Gangnam-gu|10010|37.518421|127.047222|                     33|                38|               0|         4.18|                   13.17|                4.3|              3088| 1000029| true|Samsung Fire & Ma...|              4|37.498279|127.030139|\n",
      "|   Seoul|     Gangnam-gu|10010|37.518421|127.047222|                     33|                38|               0|         4.18|                   13.17|                4.3|              3088| 1000025| true|Gangnam Dongin Ch...|              1|37.522331|127.057388|\n",
      "|   Seoul|     Gangnam-gu|10010|37.518421|127.047222|                     33|                38|               0|         4.18|                   13.17|                4.3|              3088| 1000018| true|Gangnam Yeoksam-d...|              6|        -|         -|\n",
      "|   Seoul|     Gangnam-gu|10010|37.518421|127.047222|                     33|                38|               0|         4.18|                   13.17|                4.3|              3088| 1000014| true|Samsung Medical C...|              7| 37.48825| 127.08559|\n",
      "|   Seoul|     Gangseo-gu|10040|37.551166|126.849506|                     36|                56|               1|         1.17|                   14.39|                5.7|              1080| 1000030| true|SJ Investment Cal...|              0|37.559649|126.835102|\n",
      "|   Seoul|      Gwanak-gu|10050| 37.47829|126.951502|                     22|                33|               1|         0.89|                   15.12|                4.9|               909| 1000010| true|     Wangsung Church|             30|37.481735|126.930121|\n",
      "|   Seoul|      Gwanak-gu|10050| 37.47829|126.951502|                     22|                33|               1|         0.89|                   15.12|                4.9|               909| 1000002| true|             Richway|            119| 37.48208|126.901384|\n",
      "|   Seoul|        Guro-gu|10070|37.495632| 126.88765|                     26|                34|               3|          1.0|                   16.21|                5.7|               741| 1000035| true|     Daezayeon Korea|              3|37.486837|126.893163|\n",
      "|   Seoul|        Guro-gu|10070|37.495632| 126.88765|                     26|                34|               3|          1.0|                   16.21|                5.7|               741| 1000006| true|Manmin Central Ch...|             41|37.481059|126.894343|\n",
      "|   Seoul|        Guro-gu|10070|37.495632| 126.88765|                     26|                34|               3|          1.0|                   16.21|                5.7|               741| 1000003| true| Guro-gu Call Center|             95|37.508163|126.884387|\n",
      "|   Seoul|   Geumcheon-gu|10080|37.456852|126.895229|                     18|                19|               0|         0.96|                   16.15|                6.7|               475| 1000020| true|Geumcheon-gu rice...|              6|        -|         -|\n",
      "|   Seoul|      Dobong-gu|10100|37.668952|127.047082|                     23|                26|               1|         0.95|                   17.89|                7.2|               485| 1000005| true|     Day Care Center|             43|37.679422|127.044374|\n",
      "|   Seoul|  Dongdaemun-gu|10110|37.574552|127.039721|                     21|                31|               4|         1.06|                   17.26|                6.7|               832| 1000008| true|       Dongan Church|             17|37.592888|127.056766|\n",
      "|   Seoul|   Seodaemun-gu|10140|37.579428|126.936771|                     19|                25|               6|         1.12|                   16.77|                6.2|               587| 1000016| true|  Yeonana News Class|              5|37.558147|126.943799|\n",
      "|   Seoul|      Seocho-gu|10150|37.483804|127.032693|                     24|                27|               1|          2.6|                   13.39|                3.8|              1465| 1000027| true|       Seocho Family|              5|        -|         -|\n",
      "|   Seoul|   Seongdong-gu|10160|37.563277|127.036647|                     21|                30|               2|         0.97|                   14.76|                5.3|               593| 1000012| true|    Seongdong-gu APT|             13| 37.55713|  127.0403|\n",
      "|   Seoul|   Yangcheon-gu|10190|37.517189|126.866618|                     30|                43|               0|         2.26|                   13.55|                5.5|               816| 1000026| true|Biblical Language...|              3|37.524623|126.843118|\n",
      "|   Seoul|   Yangcheon-gu|10190|37.517189|126.866618|                     30|                43|               0|         2.26|                   13.55|                5.5|               816| 1000004| true|Yangcheon Table T...|             43|37.546061|126.874209|\n",
      "|   Seoul|Yeongdeungpo-gu|10200|37.526505| 126.89619|                     23|                39|               0|         1.21|                    15.6|                5.8|              1001| 1000024| true|Yeongdeungpo Lear...|              3|37.520846|126.931278|\n",
      "|   Seoul|     Yongsan-gu|10210|37.532768|126.990021|                     15|                13|               1|         0.68|                   16.87|                6.5|               435| 1000001| true|       Itaewon Clubs|            139|37.538621|126.992652|\n",
      "+--------+---------------+-----+---------+----------+-----------------------+------------------+----------------+-------------+------------------------+-------------------+------------------+--------+-----+--------------------+---------------+---------+----------+\n",
      "only showing top 20 rows\n",
      "\n"
     ]
    }
   ],
   "source": [
    "df_join = region.join(broadcast(data),['province','city'], 'inner')\n",
    "df_join.show()"
   ]
  },
  {
   "cell_type": "markdown",
   "id": "b10279ae",
   "metadata": {},
   "source": [
    "#### 5.Using Spark SQL\n"
   ]
  },
  {
   "cell_type": "code",
   "execution_count": 55,
   "id": "566e8ffb",
   "metadata": {},
   "outputs": [
    {
     "name": "stderr",
     "output_type": "stream",
     "text": [
      "/usr/local/Cellar/apache-spark/3.3.1/libexec/python/pyspark/sql/dataframe.py:229: FutureWarning: Deprecated in 2.0, use createOrReplaceTempView instead.\n",
      "  warnings.warn(\"Deprecated in 2.0, use createOrReplaceTempView instead.\", FutureWarning)\n"
     ]
    }
   ],
   "source": [
    "data.registerTempTable('covid_data')\n",
    "\n"
   ]
  },
  {
   "cell_type": "code",
   "execution_count": 57,
   "id": "7c39fc35",
   "metadata": {},
   "outputs": [
    {
     "name": "stdout",
     "output_type": "stream",
     "text": [
      "+--------+--------+---------------+-----+--------------------+---------------+---------+----------+\n",
      "| case_id|province|           city|group|     continment_area|confirmed_cases| latitude| longitude|\n",
      "+--------+--------+---------------+-----+--------------------+---------------+---------+----------+\n",
      "| 1000001|   Seoul|     Yongsan-gu| true|       Itaewon Clubs|            139|37.538621|126.992652|\n",
      "| 1000002|   Seoul|      Gwanak-gu| true|             Richway|            119| 37.48208|126.901384|\n",
      "| 1000003|   Seoul|        Guro-gu| true| Guro-gu Call Center|             95|37.508163|126.884387|\n",
      "| 1000004|   Seoul|   Yangcheon-gu| true|Yangcheon Table T...|             43|37.546061|126.874209|\n",
      "| 1000005|   Seoul|      Dobong-gu| true|     Day Care Center|             43|37.679422|127.044374|\n",
      "| 1000006|   Seoul|        Guro-gu| true|Manmin Central Ch...|             41|37.481059|126.894343|\n",
      "| 1000007|   Seoul|from other city| true|SMR Newly Planted...|             36|        -|         -|\n",
      "| 1000008|   Seoul|  Dongdaemun-gu| true|       Dongan Church|             17|37.592888|127.056766|\n",
      "| 1000009|   Seoul|from other city| true|Coupang Logistics...|             25|        -|         -|\n",
      "| 1000010|   Seoul|      Gwanak-gu| true|     Wangsung Church|             30|37.481735|126.930121|\n",
      "+--------+--------+---------------+-----+--------------------+---------------+---------+----------+\n",
      "\n"
     ]
    }
   ],
   "source": [
    "sql_df = spark.sql(\"select * from covid_data limit 10 \")\n",
    "sql_df.show()"
   ]
  },
  {
   "cell_type": "code",
   "execution_count": 58,
   "id": "69a76502",
   "metadata": {},
   "outputs": [
    {
     "name": "stdout",
     "output_type": "stream",
     "text": [
      "+--------+-----------------+---------------+-----+--------------------+---------------+---------+----------+\n",
      "| case_id|         province|           city|group|     continment_area|confirmed_cases| latitude| longitude|\n",
      "+--------+-----------------+---------------+-----+--------------------+---------------+---------+----------+\n",
      "| 1000001|            Seoul|     Yongsan-gu| true|       Itaewon Clubs|            139|37.538621|126.992652|\n",
      "| 1000002|            Seoul|      Gwanak-gu| true|             Richway|            119| 37.48208|126.901384|\n",
      "| 1000036|            Seoul|              -|false|     overseas inflow|            298|        -|         -|\n",
      "| 1000037|            Seoul|              -|false|contact with patient|            162|        -|         -|\n",
      "| 1200001|            Daegu|         Nam-gu| true|  Shincheonji Church|           4511| 35.84008|  128.5667|\n",
      "| 1200002|            Daegu|   Dalseong-gun| true|Second Mi-Ju Hosp...|            196|35.857375|128.466651|\n",
      "| 1200003|            Daegu|         Seo-gu| true|Hansarang Convale...|            124|35.885592|128.556649|\n",
      "| 1200004|            Daegu|   Dalseong-gun| true|Daesil Convalesce...|            101|35.857393|128.466653|\n",
      "| 1200009|            Daegu|              -|false|contact with patient|            917|        -|         -|\n",
      "| 1200010|            Daegu|              -|false|                 etc|            747|        -|         -|\n",
      "| 2000020|      Gyeonggi-do|              -|false|     overseas inflow|            305|        -|         -|\n",
      "| 4100001|Chungcheongnam-do|     Cheonan-si| true|gym facility in C...|            103| 36.81503|  127.1139|\n",
      "| 6000001| Gyeongsangbuk-do|from other city| true|  Shincheonji Church|            566|        -|         -|\n",
      "| 6000002| Gyeongsangbuk-do|   Cheongdo-gun| true|Cheongdo Daenam H...|            119| 35.64887|  128.7368|\n",
      "| 6000012| Gyeongsangbuk-do|              -|false|contact with patient|            190|        -|         -|\n",
      "| 6000013| Gyeongsangbuk-do|              -|false|                 etc|            133|        -|         -|\n",
      "+--------+-----------------+---------------+-----+--------------------+---------------+---------+----------+\n",
      "\n"
     ]
    }
   ],
   "source": [
    "spark.sql(\"select * from covid_data where  confirmed_cases > 100\").show()\n"
   ]
  },
  {
   "cell_type": "code",
   "execution_count": 59,
   "id": "b792b00c",
   "metadata": {},
   "outputs": [
    {
     "name": "stdout",
     "output_type": "stream",
     "text": [
      "+--------+-----------------+---------------+-----+--------------------+---------------+---------+----------+\n",
      "| case_id|         province|           city|group|     continment_area|confirmed_cases| latitude| longitude|\n",
      "+--------+-----------------+---------------+-----+--------------------+---------------+---------+----------+\n",
      "| 1200001|            Daegu|         Nam-gu| true|  Shincheonji Church|           4511| 35.84008|  128.5667|\n",
      "| 1200009|            Daegu|              -|false|contact with patient|            917|        -|         -|\n",
      "| 1200010|            Daegu|              -|false|                 etc|            747|        -|         -|\n",
      "| 6000001| Gyeongsangbuk-do|from other city| true|  Shincheonji Church|            566|        -|         -|\n",
      "| 2000020|      Gyeonggi-do|              -|false|     overseas inflow|            305|        -|         -|\n",
      "| 1000036|            Seoul|              -|false|     overseas inflow|            298|        -|         -|\n",
      "| 1200002|            Daegu|   Dalseong-gun| true|Second Mi-Ju Hosp...|            196|35.857375|128.466651|\n",
      "| 6000012| Gyeongsangbuk-do|              -|false|contact with patient|            190|        -|         -|\n",
      "| 1000037|            Seoul|              -|false|contact with patient|            162|        -|         -|\n",
      "| 1000001|            Seoul|     Yongsan-gu| true|       Itaewon Clubs|            139|37.538621|126.992652|\n",
      "| 6000013| Gyeongsangbuk-do|              -|false|                 etc|            133|        -|         -|\n",
      "| 1200003|            Daegu|         Seo-gu| true|Hansarang Convale...|            124|35.885592|128.556649|\n",
      "| 1000002|            Seoul|      Gwanak-gu| true|             Richway|            119| 37.48208|126.901384|\n",
      "| 6000002| Gyeongsangbuk-do|   Cheongdo-gun| true|Cheongdo Daenam H...|            119| 35.64887|  128.7368|\n",
      "| 4100001|Chungcheongnam-do|     Cheonan-si| true|gym facility in C...|            103| 36.81503|  127.1139|\n",
      "| 1200004|            Daegu|   Dalseong-gun| true|Daesil Convalesce...|            101|35.857393|128.466653|\n",
      "+--------+-----------------+---------------+-----+--------------------+---------------+---------+----------+\n",
      "\n"
     ]
    }
   ],
   "source": [
    "spark.sql(\"select * from covid_data where  confirmed_cases > 100 order by confirmed_cases desc\").show()\n"
   ]
  },
  {
   "cell_type": "markdown",
   "id": "fa22e268",
   "metadata": {},
   "source": [
    "#### 6.Implementing Spark UDFs\n"
   ]
  },
  {
   "cell_type": "markdown",
   "id": "0bf027ef",
   "metadata": {},
   "source": [
    "##### UDF to Convert Non-Integer Values to Zero"
   ]
  },
  {
   "cell_type": "code",
   "execution_count": 60,
   "id": "a77aba73",
   "metadata": {},
   "outputs": [],
   "source": [
    "def convert_int(value): \n",
    "    try: \n",
    "        return int(value)\n",
    "    except (ValueError, TypeError) : \n",
    "        return 0"
   ]
  },
  {
   "cell_type": "code",
   "execution_count": 62,
   "id": "8b125e64",
   "metadata": {},
   "outputs": [],
   "source": [
    "convert_to_int_udf = udf(convert_int, IntegerType())\n"
   ]
  },
  {
   "cell_type": "code",
   "execution_count": null,
   "id": "f71f099a",
   "metadata": {},
   "outputs": [],
   "source": [
    "confirmed_cases = data.withColumn(\"confirmed_cases_int\", convert_to_int_udf(data[\"confirmed_cases\"]))\n",
    "confirmed_cases.show()"
   ]
  },
  {
   "cell_type": "code",
   "execution_count": 66,
   "id": "63412904",
   "metadata": {},
   "outputs": [],
   "source": [
    "def casesHighLow(confirmed):\n",
    "    if confirmed < 50: \n",
    "        return 'low'\n",
    "    else:\n",
    "        return 'high'\n",
    "    "
   ]
  },
  {
   "cell_type": "code",
   "execution_count": 68,
   "id": "6255d0f3",
   "metadata": {},
   "outputs": [
    {
     "name": "stderr",
     "output_type": "stream",
     "text": [
      "\r",
      "[Stage 54:>                                                         (0 + 1) / 1]\r"
     ]
    },
    {
     "name": "stdout",
     "output_type": "stream",
     "text": [
      "25/02/06 12:03:01 ERROR Executor: Exception in task 0.0 in stage 54.0 (TID 44)\n",
      "org.apache.spark.api.python.PythonException: Traceback (most recent call last):\n",
      "  File \"/usr/local/Cellar/apache-spark/3.3.1/libexec/python/lib/pyspark.zip/pyspark/worker.py\", line 540, in main\n",
      "    raise RuntimeError(\n",
      "RuntimeError: Python in worker has different version 3.12 than that in driver 3.11, PySpark cannot run with different minor versions. Please check environment variables PYSPARK_PYTHON and PYSPARK_DRIVER_PYTHON are correctly set.\n",
      "\n",
      "\tat org.apache.spark.api.python.BasePythonRunner$ReaderIterator.handlePythonException(PythonRunner.scala:559)\n",
      "\tat org.apache.spark.sql.execution.python.PythonUDFRunner$$anon$2.read(PythonUDFRunner.scala:86)\n",
      "\tat org.apache.spark.sql.execution.python.PythonUDFRunner$$anon$2.read(PythonUDFRunner.scala:68)\n",
      "\tat org.apache.spark.api.python.BasePythonRunner$ReaderIterator.hasNext(PythonRunner.scala:512)\n",
      "\tat org.apache.spark.InterruptibleIterator.hasNext(InterruptibleIterator.scala:37)\n",
      "\tat scala.collection.Iterator$$anon$11.hasNext(Iterator.scala:491)\n",
      "\tat scala.collection.Iterator$$anon$10.hasNext(Iterator.scala:460)\n",
      "\tat scala.collection.Iterator$$anon$10.hasNext(Iterator.scala:460)\n",
      "\tat org.apache.spark.sql.catalyst.expressions.GeneratedClass$GeneratedIteratorForCodegenStage1.processNext(Unknown Source)\n",
      "\tat org.apache.spark.sql.execution.BufferedRowIterator.hasNext(BufferedRowIterator.java:43)\n",
      "\tat org.apache.spark.sql.execution.WholeStageCodegenExec$$anon$1.hasNext(WholeStageCodegenExec.scala:760)\n",
      "\tat org.apache.spark.sql.execution.SparkPlan.$anonfun$getByteArrayRdd$1(SparkPlan.scala:364)\n",
      "\tat org.apache.spark.rdd.RDD.$anonfun$mapPartitionsInternal$2(RDD.scala:890)\n",
      "\tat org.apache.spark.rdd.RDD.$anonfun$mapPartitionsInternal$2$adapted(RDD.scala:890)\n",
      "\tat org.apache.spark.rdd.MapPartitionsRDD.compute(MapPartitionsRDD.scala:52)\n",
      "\tat org.apache.spark.rdd.RDD.computeOrReadCheckpoint(RDD.scala:365)\n",
      "\tat org.apache.spark.rdd.RDD.iterator(RDD.scala:329)\n",
      "\tat org.apache.spark.scheduler.ResultTask.runTask(ResultTask.scala:90)\n",
      "\tat org.apache.spark.scheduler.Task.run(Task.scala:136)\n",
      "\tat org.apache.spark.executor.Executor$TaskRunner.$anonfun$run$3(Executor.scala:548)\n",
      "\tat org.apache.spark.util.Utils$.tryWithSafeFinally(Utils.scala:1504)\n",
      "\tat org.apache.spark.executor.Executor$TaskRunner.run(Executor.scala:551)\n",
      "\tat java.base/java.util.concurrent.ThreadPoolExecutor.runWorker(ThreadPoolExecutor.java:1144)\n",
      "\tat java.base/java.util.concurrent.ThreadPoolExecutor$Worker.run(ThreadPoolExecutor.java:642)\n",
      "\tat java.base/java.lang.Thread.run(Thread.java:1589)\n",
      "25/02/06 12:03:01 WARN TaskSetManager: Lost task 0.0 in stage 54.0 (TID 44) (prasannas-mbp.lan executor driver): org.apache.spark.api.python.PythonException: Traceback (most recent call last):\n",
      "  File \"/usr/local/Cellar/apache-spark/3.3.1/libexec/python/lib/pyspark.zip/pyspark/worker.py\", line 540, in main\n",
      "    raise RuntimeError(\n",
      "RuntimeError: Python in worker has different version 3.12 than that in driver 3.11, PySpark cannot run with different minor versions. Please check environment variables PYSPARK_PYTHON and PYSPARK_DRIVER_PYTHON are correctly set.\n",
      "\n",
      "\tat org.apache.spark.api.python.BasePythonRunner$ReaderIterator.handlePythonException(PythonRunner.scala:559)\n",
      "\tat org.apache.spark.sql.execution.python.PythonUDFRunner$$anon$2.read(PythonUDFRunner.scala:86)\n",
      "\tat org.apache.spark.sql.execution.python.PythonUDFRunner$$anon$2.read(PythonUDFRunner.scala:68)\n",
      "\tat org.apache.spark.api.python.BasePythonRunner$ReaderIterator.hasNext(PythonRunner.scala:512)\n",
      "\tat org.apache.spark.InterruptibleIterator.hasNext(InterruptibleIterator.scala:37)\n",
      "\tat scala.collection.Iterator$$anon$11.hasNext(Iterator.scala:491)\n",
      "\tat scala.collection.Iterator$$anon$10.hasNext(Iterator.scala:460)\n",
      "\tat scala.collection.Iterator$$anon$10.hasNext(Iterator.scala:460)\n",
      "\tat org.apache.spark.sql.catalyst.expressions.GeneratedClass$GeneratedIteratorForCodegenStage1.processNext(Unknown Source)\n",
      "\tat org.apache.spark.sql.execution.BufferedRowIterator.hasNext(BufferedRowIterator.java:43)\n",
      "\tat org.apache.spark.sql.execution.WholeStageCodegenExec$$anon$1.hasNext(WholeStageCodegenExec.scala:760)\n",
      "\tat org.apache.spark.sql.execution.SparkPlan.$anonfun$getByteArrayRdd$1(SparkPlan.scala:364)\n",
      "\tat org.apache.spark.rdd.RDD.$anonfun$mapPartitionsInternal$2(RDD.scala:890)\n",
      "\tat org.apache.spark.rdd.RDD.$anonfun$mapPartitionsInternal$2$adapted(RDD.scala:890)\n",
      "\tat org.apache.spark.rdd.MapPartitionsRDD.compute(MapPartitionsRDD.scala:52)\n",
      "\tat org.apache.spark.rdd.RDD.computeOrReadCheckpoint(RDD.scala:365)\n",
      "\tat org.apache.spark.rdd.RDD.iterator(RDD.scala:329)\n",
      "\tat org.apache.spark.scheduler.ResultTask.runTask(ResultTask.scala:90)\n",
      "\tat org.apache.spark.scheduler.Task.run(Task.scala:136)\n",
      "\tat org.apache.spark.executor.Executor$TaskRunner.$anonfun$run$3(Executor.scala:548)\n",
      "\tat org.apache.spark.util.Utils$.tryWithSafeFinally(Utils.scala:1504)\n",
      "\tat org.apache.spark.executor.Executor$TaskRunner.run(Executor.scala:551)\n",
      "\tat java.base/java.util.concurrent.ThreadPoolExecutor.runWorker(ThreadPoolExecutor.java:1144)\n",
      "\tat java.base/java.util.concurrent.ThreadPoolExecutor$Worker.run(ThreadPoolExecutor.java:642)\n",
      "\tat java.base/java.lang.Thread.run(Thread.java:1589)\n",
      "\n",
      "25/02/06 12:03:01 ERROR TaskSetManager: Task 0 in stage 54.0 failed 1 times; aborting job\n"
     ]
    },
    {
     "ename": "PythonException",
     "evalue": "\n  An exception was thrown from the Python worker. Please see the stack trace below.\nTraceback (most recent call last):\n  File \"/usr/local/Cellar/apache-spark/3.3.1/libexec/python/lib/pyspark.zip/pyspark/worker.py\", line 540, in main\n    raise RuntimeError(\nRuntimeError: Python in worker has different version 3.12 than that in driver 3.11, PySpark cannot run with different minor versions. Please check environment variables PYSPARK_PYTHON and PYSPARK_DRIVER_PYTHON are correctly set.\n",
     "output_type": "error",
     "traceback": [
      "\u001b[0;31m---------------------------------------------------------------------------\u001b[0m",
      "\u001b[0;31mPythonException\u001b[0m                           Traceback (most recent call last)",
      "Cell \u001b[0;32mIn[68], line 3\u001b[0m\n\u001b[1;32m      1\u001b[0m casesHighLowUDF \u001b[38;5;241m=\u001b[39m udf(casesHighLow, StringType())\n\u001b[1;32m      2\u001b[0m CasesWithHighLow \u001b[38;5;241m=\u001b[39m data\u001b[38;5;241m.\u001b[39mwithColumn(\u001b[38;5;124m\"\u001b[39m\u001b[38;5;124mHighLow\u001b[39m\u001b[38;5;124m\"\u001b[39m, casesHighLowUDF(\u001b[38;5;124m\"\u001b[39m\u001b[38;5;124mconfirmed_cases\u001b[39m\u001b[38;5;124m\"\u001b[39m))\n\u001b[0;32m----> 3\u001b[0m \u001b[43mCasesWithHighLow\u001b[49m\u001b[38;5;241;43m.\u001b[39;49m\u001b[43mshow\u001b[49m\u001b[43m(\u001b[49m\u001b[43m)\u001b[49m\n",
      "File \u001b[0;32m/usr/local/Cellar/apache-spark/3.3.1/libexec/python/pyspark/sql/dataframe.py:606\u001b[0m, in \u001b[0;36mDataFrame.show\u001b[0;34m(self, n, truncate, vertical)\u001b[0m\n\u001b[1;32m    603\u001b[0m     \u001b[38;5;28;01mraise\u001b[39;00m \u001b[38;5;167;01mTypeError\u001b[39;00m(\u001b[38;5;124m\"\u001b[39m\u001b[38;5;124mParameter \u001b[39m\u001b[38;5;124m'\u001b[39m\u001b[38;5;124mvertical\u001b[39m\u001b[38;5;124m'\u001b[39m\u001b[38;5;124m must be a bool\u001b[39m\u001b[38;5;124m\"\u001b[39m)\n\u001b[1;32m    605\u001b[0m \u001b[38;5;28;01mif\u001b[39;00m \u001b[38;5;28misinstance\u001b[39m(truncate, \u001b[38;5;28mbool\u001b[39m) \u001b[38;5;129;01mand\u001b[39;00m truncate:\n\u001b[0;32m--> 606\u001b[0m     \u001b[38;5;28mprint\u001b[39m(\u001b[38;5;28;43mself\u001b[39;49m\u001b[38;5;241;43m.\u001b[39;49m\u001b[43m_jdf\u001b[49m\u001b[38;5;241;43m.\u001b[39;49m\u001b[43mshowString\u001b[49m\u001b[43m(\u001b[49m\u001b[43mn\u001b[49m\u001b[43m,\u001b[49m\u001b[43m \u001b[49m\u001b[38;5;241;43m20\u001b[39;49m\u001b[43m,\u001b[49m\u001b[43m \u001b[49m\u001b[43mvertical\u001b[49m\u001b[43m)\u001b[49m)\n\u001b[1;32m    607\u001b[0m \u001b[38;5;28;01melse\u001b[39;00m:\n\u001b[1;32m    608\u001b[0m     \u001b[38;5;28;01mtry\u001b[39;00m:\n",
      "File \u001b[0;32m/usr/local/Cellar/apache-spark/3.3.1/libexec/python/lib/py4j-0.10.9.5-src.zip/py4j/java_gateway.py:1321\u001b[0m, in \u001b[0;36mJavaMember.__call__\u001b[0;34m(self, *args)\u001b[0m\n\u001b[1;32m   1315\u001b[0m command \u001b[38;5;241m=\u001b[39m proto\u001b[38;5;241m.\u001b[39mCALL_COMMAND_NAME \u001b[38;5;241m+\u001b[39m\\\n\u001b[1;32m   1316\u001b[0m     \u001b[38;5;28mself\u001b[39m\u001b[38;5;241m.\u001b[39mcommand_header \u001b[38;5;241m+\u001b[39m\\\n\u001b[1;32m   1317\u001b[0m     args_command \u001b[38;5;241m+\u001b[39m\\\n\u001b[1;32m   1318\u001b[0m     proto\u001b[38;5;241m.\u001b[39mEND_COMMAND_PART\n\u001b[1;32m   1320\u001b[0m answer \u001b[38;5;241m=\u001b[39m \u001b[38;5;28mself\u001b[39m\u001b[38;5;241m.\u001b[39mgateway_client\u001b[38;5;241m.\u001b[39msend_command(command)\n\u001b[0;32m-> 1321\u001b[0m return_value \u001b[38;5;241m=\u001b[39m \u001b[43mget_return_value\u001b[49m\u001b[43m(\u001b[49m\n\u001b[1;32m   1322\u001b[0m \u001b[43m    \u001b[49m\u001b[43manswer\u001b[49m\u001b[43m,\u001b[49m\u001b[43m \u001b[49m\u001b[38;5;28;43mself\u001b[39;49m\u001b[38;5;241;43m.\u001b[39;49m\u001b[43mgateway_client\u001b[49m\u001b[43m,\u001b[49m\u001b[43m \u001b[49m\u001b[38;5;28;43mself\u001b[39;49m\u001b[38;5;241;43m.\u001b[39;49m\u001b[43mtarget_id\u001b[49m\u001b[43m,\u001b[49m\u001b[43m \u001b[49m\u001b[38;5;28;43mself\u001b[39;49m\u001b[38;5;241;43m.\u001b[39;49m\u001b[43mname\u001b[49m\u001b[43m)\u001b[49m\n\u001b[1;32m   1324\u001b[0m \u001b[38;5;28;01mfor\u001b[39;00m temp_arg \u001b[38;5;129;01min\u001b[39;00m temp_args:\n\u001b[1;32m   1325\u001b[0m     temp_arg\u001b[38;5;241m.\u001b[39m_detach()\n",
      "File \u001b[0;32m/usr/local/Cellar/apache-spark/3.3.1/libexec/python/pyspark/sql/utils.py:196\u001b[0m, in \u001b[0;36mcapture_sql_exception.<locals>.deco\u001b[0;34m(*a, **kw)\u001b[0m\n\u001b[1;32m    192\u001b[0m converted \u001b[38;5;241m=\u001b[39m convert_exception(e\u001b[38;5;241m.\u001b[39mjava_exception)\n\u001b[1;32m    193\u001b[0m \u001b[38;5;28;01mif\u001b[39;00m \u001b[38;5;129;01mnot\u001b[39;00m \u001b[38;5;28misinstance\u001b[39m(converted, UnknownException):\n\u001b[1;32m    194\u001b[0m     \u001b[38;5;66;03m# Hide where the exception came from that shows a non-Pythonic\u001b[39;00m\n\u001b[1;32m    195\u001b[0m     \u001b[38;5;66;03m# JVM exception message.\u001b[39;00m\n\u001b[0;32m--> 196\u001b[0m     \u001b[38;5;28;01mraise\u001b[39;00m converted \u001b[38;5;28;01mfrom\u001b[39;00m \u001b[38;5;28mNone\u001b[39m\n\u001b[1;32m    197\u001b[0m \u001b[38;5;28;01melse\u001b[39;00m:\n\u001b[1;32m    198\u001b[0m     \u001b[38;5;28;01mraise\u001b[39;00m\n",
      "\u001b[0;31mPythonException\u001b[0m: \n  An exception was thrown from the Python worker. Please see the stack trace below.\nTraceback (most recent call last):\n  File \"/usr/local/Cellar/apache-spark/3.3.1/libexec/python/lib/pyspark.zip/pyspark/worker.py\", line 540, in main\n    raise RuntimeError(\nRuntimeError: Python in worker has different version 3.12 than that in driver 3.11, PySpark cannot run with different minor versions. Please check environment variables PYSPARK_PYTHON and PYSPARK_DRIVER_PYTHON are correctly set.\n"
     ]
    }
   ],
   "source": [
    "casesHighLowUDF = udf(casesHighLow, StringType())\n",
    "CasesWithHighLow = data.withColumn(\"HighLow\", casesHighLowUDF(\"confirmed_cases\"))\n",
    "CasesWithHighLow.show()"
   ]
  },
  {
   "cell_type": "code",
   "execution_count": null,
   "id": "c22b4d0b",
   "metadata": {},
   "outputs": [],
   "source": []
  }
 ],
 "metadata": {
  "kernelspec": {
   "display_name": "Python 3 (ipykernel)",
   "language": "python",
   "name": "python3"
  },
  "language_info": {
   "codemirror_mode": {
    "name": "ipython",
    "version": 3
   },
   "file_extension": ".py",
   "mimetype": "text/x-python",
   "name": "python",
   "nbconvert_exporter": "python",
   "pygments_lexer": "ipython3",
   "version": "3.11.1"
  }
 },
 "nbformat": 4,
 "nbformat_minor": 5
}
