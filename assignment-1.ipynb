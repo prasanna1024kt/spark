{
 "cells": [
  {
   "cell_type": "code",
   "execution_count": 4,
   "metadata": {},
   "outputs": [],
   "source": [
    "from pyspark import SparkConf,SparkContext\n",
    "from pyspark.sql import SQLContext,SparkSession"
   ]
  },
  {
   "cell_type": "markdown",
   "metadata": {},
   "source": [
    "### Output should like as mentioned below apply any technique for the solution. Here value is nothing but key's length"
   ]
  },
  {
   "cell_type": "code",
   "execution_count": 5,
   "metadata": {},
   "outputs": [],
   "source": [
    "spark = SparkContext('local[2]','word-count')"
   ]
  },
  {
   "cell_type": "code",
   "execution_count": 6,
   "metadata": {},
   "outputs": [],
   "source": [
    "ltr=(\"animal\", \"human\", \"bird\", \"rat\")\n",
    "df1=spark.parallelize(ltr)"
   ]
  },
  {
   "cell_type": "code",
   "execution_count": 7,
   "metadata": {},
   "outputs": [
    {
     "data": {
      "text/plain": [
       "[('animal', 6), ('human', 5), ('bird', 4), ('rat', 3)]"
      ]
     },
     "execution_count": 7,
     "metadata": {},
     "output_type": "execute_result"
    }
   ],
   "source": [
    "data1=df1.map(lambda x:(x,len(x)))\n",
    "data1.collect()"
   ]
  },
  {
   "cell_type": "markdown",
   "metadata": {},
   "source": [
    "### Group the words based on length\n",
    "\n",
    "  "
   ]
  },
  {
   "cell_type": "code",
   "execution_count": 8,
   "metadata": {},
   "outputs": [
    {
     "data": {
      "text/plain": [
       "[['blue', 'grey'], ['black', 'white', 'green']]"
      ]
     },
     "execution_count": 8,
     "metadata": {},
     "output_type": "execute_result"
    }
   ],
   "source": [
    "a=spark.parallelize((\"black\", \"blue\", \"white\", \"green\", \"grey\"), 2) \n",
    "word_length=a.map(lambda x:(len(x),x))\n",
    "word_length.collect()\n",
    "# Grouping by key (which is length of tuple)\n",
    "\n",
    "dataa = word_length.groupByKey().mapValues(lambda x:list(x)).map(lambda x:x[1])\n",
    "dataa.collect()"
   ]
  },
  {
   "cell_type": "markdown",
   "metadata": {},
   "source": [
    "### Scenario 4:\n",
    "\n"
   ]
  },
  {
   "cell_type": "code",
   "execution_count": 9,
   "metadata": {},
   "outputs": [],
   "source": [
    "data_set = spark.textFile(\"/Desktop/sample/sampledataset.txt\")"
   ]
  },
  {
   "cell_type": "code",
   "execution_count": 12,
   "metadata": {},
   "outputs": [],
   "source": [
    "def data_check(lines):\n",
    "      lines = lines.lower()\n",
    "      lines = lines.split()\n",
    "      return lines"
   ]
  },
  {
   "cell_type": "code",
   "execution_count": 16,
   "metadata": {},
   "outputs": [],
   "source": [
    "data_1=data_set.flatMap(data_check)\n",
    "stopword=['is', 'an', 'a', 'the', 'of', 'that', 'this', 'i' ]\n"
   ]
  },
  {
   "cell_type": "code",
   "execution_count": null,
   "metadata": {},
   "outputs": [],
   "source": [
    "filter_word = data_1.filter(lambda x : x not in stopword)\n",
    "rdd3_mapped = filter_word.map(lambda x: (x,1))\n",
    "word_count_check=rdd3_mapped.reduceByKey(lambda x,y: x+y).map(lambda x:(x[1],x[0])).sortByKey(False)\n",
    "word_count_check.take(5)"
   ]
  }
 ],
 "metadata": {
  "kernelspec": {
   "display_name": "Python 3",
   "language": "python",
   "name": "python3"
  },
  "language_info": {
   "codemirror_mode": {
    "name": "ipython",
    "version": 3
   },
   "file_extension": ".py",
   "mimetype": "text/x-python",
   "name": "python",
   "nbconvert_exporter": "python",
   "pygments_lexer": "ipython3",
   "version": "3.7.0"
  }
 },
 "nbformat": 4,
 "nbformat_minor": 2
}
