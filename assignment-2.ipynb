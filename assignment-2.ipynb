{
 "cells": [
  {
   "cell_type": "code",
   "execution_count": 3,
   "metadata": {},
   "outputs": [],
   "source": [
    "from pyspark import SparkConf,SparkContext\n",
    "from pyspark.sql import SparkSession,SQLContext"
   ]
  },
  {
   "cell_type": "code",
   "execution_count": 4,
   "metadata": {},
   "outputs": [],
   "source": [
    "spark = SparkContext('local[2]','assignment-2')\n",
    "sqlContext = SQLContext(spark)"
   ]
  },
  {
   "cell_type": "code",
   "execution_count": 5,
   "metadata": {},
   "outputs": [],
   "source": [
    "spark_Data = SparkSession.builder.appName(\"app1\").getOrCreate()\n",
    "df2 = spark_Data.read.csv(\"./Desktop/sample/aadhaar_data.csv\",inferSchema=True,header=True)"
   ]
  },
  {
   "cell_type": "code",
   "execution_count": null,
   "metadata": {},
   "outputs": [],
   "source": [
    "from pyspark.sql.functions import StructType,StringType,StructField,IntegerType,DateType\n",
    "\n",
    "schema = StructType([\n",
    "    StructField(\"date\", DateType()),\n",
    "    StructField(\"register\", StringType()),\n",
    "    StructField(\"private_agency\", IntegerType()),\n",
    "    StructField(\"state\", StringType()),\n",
    "    StructField(\"distinct\", StringType()),\n",
    "    StructField(\"sub_distinct\", IntegerType()),\n",
    "    StructField(\"pincode\", IntegerType()),\n",
    "    StructField(\"gender\", StringType()),\n",
    "    StructField(\"age\", IntegerType()),\n",
    "    StructField(\"aadhar_generated\", IntegerType()),\n",
    "    StructField(\"rejected\", IntegerType()),\n",
    "    StructField(\"mobile_number\", IntegerType()),\n",
    "    StructField(\"email_id\", StringType())\n",
    "])\n"
   ]
  },
  {
   "cell_type": "code",
   "execution_count": 13,
   "metadata": {},
   "outputs": [],
   "source": [
    "aadhar_Data = sqlContext.read.csv(\"./Desktop/sample/aadhaar_data.csv\",inferSchema=True,header=False)"
   ]
  },
  {
   "cell_type": "code",
   "execution_count": 14,
   "metadata": {},
   "outputs": [
    {
     "name": "stdout",
     "output_type": "stream",
     "text": [
      "root\n",
      " |-- _c0: integer (nullable = true)\n",
      " |-- _c1: string (nullable = true)\n",
      " |-- _c2: string (nullable = true)\n",
      " |-- _c3: string (nullable = true)\n",
      " |-- _c4: string (nullable = true)\n",
      " |-- _c5: string (nullable = true)\n",
      " |-- _c6: string (nullable = true)\n",
      " |-- _c7: string (nullable = true)\n",
      " |-- _c8: integer (nullable = true)\n",
      " |-- _c9: integer (nullable = true)\n",
      " |-- _c10: integer (nullable = true)\n",
      " |-- _c11: integer (nullable = true)\n",
      " |-- _c12: integer (nullable = true)\n",
      "\n"
     ]
    }
   ],
   "source": [
    "aadhar_Data.printSchema()"
   ]
  },
  {
   "cell_type": "code",
   "execution_count": 29,
   "metadata": {},
   "outputs": [],
   "source": [
    "from pyspark.sql.functions import format_number,format_string\n",
    "df2 =aadhar_Data.select(aadhar_Data['_c0'].alias(\"date\"),\n",
    "          aadhar_Data['_c1'].alias(\"register\"),\n",
    "          aadhar_Data['_c2'].alias(\"private_agency\"),\n",
    "          aadhar_Data['_c3'].alias(\"state\"),\n",
    "          aadhar_Data['_c4'].alias(\"distinct\"),\n",
    "          aadhar_Data['_c5'].alias(\"sub_distinct\"),\n",
    "          aadhar_Data['_c6'].alias(\"pincode\"),\n",
    "          aadhar_Data['_c7'].alias(\"gender\"),\n",
    "          aadhar_Data['_c8'].alias(\"age\"),\n",
    "          aadhar_Data['_c9'].alias(\"aadhar_generated\"),\n",
    "          aadhar_Data['_c10'].alias(\"rejected\"),\n",
    "          aadhar_Data['_c11'].alias(\"mobile_number\"),\n",
    "          aadhar_Data['_c12'].alias(\"email_id\"),\n",
    "         )\n",
    "#df2.select(df2['gender']).show()"
   ]
  },
  {
   "cell_type": "code",
   "execution_count": 30,
   "metadata": {},
   "outputs": [],
   "source": [
    "df2.registerTempTable(\"aadhar_Data\")"
   ]
  },
  {
   "cell_type": "markdown",
   "metadata": {},
   "source": [
    "### Find the number of states, districts in each state and sub-districts in each district.\n"
   ]
  },
  {
   "cell_type": "code",
   "execution_count": 31,
   "metadata": {},
   "outputs": [
    {
     "data": {
      "text/plain": [
       "[Row(state='Uttar Pradesh', distinct='Rae Bareli', sub_distinct='Raebareli'),\n",
       " Row(state='Bihar', distinct='Begusarai', sub_distinct='Balia'),\n",
       " Row(state='Bihar', distinct='West Champaran', sub_distinct='Bettiah'),\n",
       " Row(state='Gujarat', distinct='Rajkot', sub_distinct='Upleta'),\n",
       " Row(state='Uttar Pradesh', distinct='Faizabad', sub_distinct='Rudauli'),\n",
       " Row(state='Jharkhand', distinct='Dumka', sub_distinct='Kathikund'),\n",
       " Row(state='Punjab', distinct='SAS Nagar (Mohali)', sub_distinct='Kharar'),\n",
       " Row(state='West Bengal', distinct='Jalpaiguri', sub_distinct='Jalpaiguri'),\n",
       " Row(state='West Bengal', distinct='North 24 Parganas', sub_distinct='Bagda'),\n",
       " Row(state='Maharashtra', distinct='Buldhana', sub_distinct='Chikhli')]"
      ]
     },
     "execution_count": 31,
     "metadata": {},
     "output_type": "execute_result"
    }
   ],
   "source": [
    "sqlContext.sql(\"select state,distinct,sub_distinct from aadhar_Data group by state,distinct,sub_distinct limit 10\").collect()\n",
    "\n"
   ]
  },
  {
   "cell_type": "markdown",
   "metadata": {},
   "source": [
    "###  Find the number of males and females in each state from the table. "
   ]
  },
  {
   "cell_type": "code",
   "execution_count": 39,
   "metadata": {},
   "outputs": [
    {
     "data": {
      "text/plain": [
       "[Row(private_agency='Conatus Infocom Pvt. Ltd', state='Haryana'),\n",
       " Row(private_agency='FINANCIAL INFORMATION NETWORK', state='West Bengal'),\n",
       " Row(private_agency='Vakrangee Softwares Limited', state='Haryana'),\n",
       " Row(private_agency='Smart Chip Limited', state='Madhya Pradesh'),\n",
       " Row(private_agency='Wipro Ltd', state='Nagaland'),\n",
       " Row(private_agency='CSS TECHNERGY LIMITED', state='Jammu and Kashmir'),\n",
       " Row(private_agency='Multiwave Innovation', state='Gujarat'),\n",
       " Row(private_agency='SREI INFRASTRUCTURE FINANCES L', state='Punjab'),\n",
       " Row(private_agency='APOnline Limited', state='Andhra Pradesh'),\n",
       " Row(private_agency='RELIGARE SECURITIES LTD', state='Jharkhand')]"
      ]
     },
     "execution_count": 39,
     "metadata": {},
     "output_type": "execute_result"
    }
   ],
   "source": [
    "\n",
    "sqlContext.sql(\"select private_agency,state from aadhar_Data group by state,private_agency limit 10\").collect()"
   ]
  },
  {
   "cell_type": "markdown",
   "metadata": {},
   "source": [
    "### Find top 3 states generating most number of Aadhaar cards?\n"
   ]
  },
  {
   "cell_type": "code",
   "execution_count": 43,
   "metadata": {},
   "outputs": [
    {
     "data": {
      "text/plain": [
       "[Row(aadhar_count=285326, state='Maharashtra'),\n",
       " Row(aadhar_count=209410, state='Uttar Pradesh'),\n",
       " Row(aadhar_count=155556, state='Andhra Pradesh')]"
      ]
     },
     "execution_count": 43,
     "metadata": {},
     "output_type": "execute_result"
    }
   ],
   "source": [
    "sqlContext.sql(\"select count(aadhar_generated) as aadhar_count,state from aadhar_Data group by state order by aadhar_count desc limit 3\").collect()\n",
    "\n",
    "\n"
   ]
  },
  {
   "cell_type": "markdown",
   "metadata": {},
   "source": [
    "### Find top 3 private agencies generating the most number of Aadhar cards?\n"
   ]
  },
  {
   "cell_type": "code",
   "execution_count": 42,
   "metadata": {},
   "outputs": [
    {
     "data": {
      "text/plain": [
       "[Row(aadhar_count=130611, private_agency='Wipro Ltd'),\n",
       " Row(aadhar_count=116527, private_agency='Vakrangee Softwares Limited'),\n",
       " Row(aadhar_count=89562, private_agency='Karvy Data Management Services')]"
      ]
     },
     "execution_count": 42,
     "metadata": {},
     "output_type": "execute_result"
    }
   ],
   "source": [
    "sqlContext.sql(\"select count(aadhar_generated) as aadhar_count,private_agency from aadhar_Data group by private_agency order by aadhar_count desc limit 3\").collect()\n",
    "\n"
   ]
  },
  {
   "cell_type": "markdown",
   "metadata": {},
   "source": [
    "### Find the number of residents providing email, mobile number? (Hint: consider non-zero values.)"
   ]
  },
  {
   "cell_type": "code",
   "execution_count": 46,
   "metadata": {},
   "outputs": [
    {
     "data": {
      "text/plain": [
       "[Row(residents_count=1665947)]"
      ]
     },
     "execution_count": 46,
     "metadata": {},
     "output_type": "execute_result"
    }
   ],
   "source": [
    "sqlContext.sql(\"select count(*) as residents_count from aadhar_Data where mobile_number is not null and email_id is not null \").collect()\n",
    "\n"
   ]
  },
  {
   "cell_type": "markdown",
   "metadata": {},
   "source": [
    "### Find top 3 districts where enrolment numbers are maximum?"
   ]
  },
  {
   "cell_type": "code",
   "execution_count": 48,
   "metadata": {},
   "outputs": [
    {
     "data": {
      "text/plain": [
       "[Row(distinct='Pune', enrollment_count=36203),\n",
       " Row(distinct='Mumbai', enrollment_count=29268),\n",
       " Row(distinct='Thane', enrollment_count=27848)]"
      ]
     },
     "execution_count": 48,
     "metadata": {},
     "output_type": "execute_result"
    }
   ],
   "source": [
    "sqlContext.sql(\"select distinct,count(*) as enrollment_count from aadhar_Data where mobile_number is not null and email_id is not null group by distinct order by enrollment_count desc limit 3 \").collect()\n",
    "\n"
   ]
  },
  {
   "cell_type": "markdown",
   "metadata": {},
   "source": [
    "### Find the no. of Aadhaar cards generated in each state?"
   ]
  },
  {
   "cell_type": "code",
   "execution_count": 50,
   "metadata": {},
   "outputs": [
    {
     "data": {
      "text/plain": [
       "[Row(state='Maharashtra', aadhar_generated_count=285326),\n",
       " Row(state='Uttar Pradesh', aadhar_generated_count=209410),\n",
       " Row(state='Andhra Pradesh', aadhar_generated_count=155556),\n",
       " Row(state='Rajasthan', aadhar_generated_count=136194),\n",
       " Row(state='Bihar', aadhar_generated_count=113401),\n",
       " Row(state='Madhya Pradesh', aadhar_generated_count=110245),\n",
       " Row(state='Karnataka', aadhar_generated_count=89518),\n",
       " Row(state='Gujarat', aadhar_generated_count=87165),\n",
       " Row(state='Kerala', aadhar_generated_count=86217),\n",
       " Row(state='Jharkhand', aadhar_generated_count=63414),\n",
       " Row(state='Punjab', aadhar_generated_count=48855),\n",
       " Row(state='Haryana', aadhar_generated_count=46926),\n",
       " Row(state='Tamil Nadu', aadhar_generated_count=44968),\n",
       " Row(state='West Bengal', aadhar_generated_count=42755),\n",
       " Row(state='Delhi', aadhar_generated_count=36917),\n",
       " Row(state='Chhattisgarh', aadhar_generated_count=23540),\n",
       " Row(state='Odisha', aadhar_generated_count=23216),\n",
       " Row(state='Himachal Pradesh', aadhar_generated_count=19136),\n",
       " Row(state='Uttarakhand', aadhar_generated_count=13596),\n",
       " Row(state='Goa', aadhar_generated_count=6132),\n",
       " Row(state='Jammu and Kashmir', aadhar_generated_count=5368),\n",
       " Row(state='Manipur', aadhar_generated_count=4219),\n",
       " Row(state='Telangana', aadhar_generated_count=3319),\n",
       " Row(state='Tripura', aadhar_generated_count=2232),\n",
       " Row(state='Chandigarh', aadhar_generated_count=1917),\n",
       " Row(state='Nagaland', aadhar_generated_count=1172),\n",
       " Row(state='Daman and Diu', aadhar_generated_count=980),\n",
       " Row(state='Puducherry', aadhar_generated_count=939),\n",
       " Row(state='Others', aadhar_generated_count=816),\n",
       " Row(state='Assam', aadhar_generated_count=689),\n",
       " Row(state='Sikkim', aadhar_generated_count=677),\n",
       " Row(state='Andaman and Nicobar Islands', aadhar_generated_count=400),\n",
       " Row(state='Arunachal Pradesh', aadhar_generated_count=362),\n",
       " Row(state='Mizoram', aadhar_generated_count=173),\n",
       " Row(state='Dadra and Nagar Haveli', aadhar_generated_count=132),\n",
       " Row(state='Meghalaya', aadhar_generated_count=49),\n",
       " Row(state='Lakshadweep', aadhar_generated_count=16)]"
      ]
     },
     "execution_count": 50,
     "metadata": {},
     "output_type": "execute_result"
    }
   ],
   "source": [
    "sqlContext.sql(\"select state,count(aadhar_generated) as aadhar_generated_count from aadhar_Data group by state order by aadhar_generated_count desc  \").collect()\n"
   ]
  },
  {
   "cell_type": "markdown",
   "metadata": {},
   "source": [
    "### Find the number of unique pincodes in the data? "
   ]
  },
  {
   "cell_type": "code",
   "execution_count": 52,
   "metadata": {},
   "outputs": [
    {
     "data": {
      "text/plain": [
       "[Row(count(pincode)=1665947)]"
      ]
     },
     "execution_count": 52,
     "metadata": {},
     "output_type": "execute_result"
    }
   ],
   "source": [
    "sqlContext.sql(\"select distinct count(pincode) from aadhar_Data\").collect()\n"
   ]
  },
  {
   "cell_type": "markdown",
   "metadata": {},
   "source": [
    "### Find the number of Aadhaar registrations rejected in Uttar Pradesh and Maharashtra?"
   ]
  },
  {
   "cell_type": "code",
   "execution_count": 54,
   "metadata": {},
   "outputs": [
    {
     "data": {
      "text/plain": [
       "[Row(rejected_count=494736)]"
      ]
     },
     "execution_count": 54,
     "metadata": {},
     "output_type": "execute_result"
    }
   ],
   "source": [
    "sqlContext.sql(\"select count(rejected) as rejected_count from aadhar_Data where state in ('Maharashtra','Uttar Pradesh')\").collect()"
   ]
  },
  {
   "cell_type": "markdown",
   "metadata": {},
   "source": [
    "### The top 3 states where the percentage of Aadhaar cards being generated for males is the highest."
   ]
  },
  {
   "cell_type": "code",
   "execution_count": 55,
   "metadata": {},
   "outputs": [
    {
     "data": {
      "text/plain": [
       "[Row(state='Maharashtra', male_Aadhar_count=147255),\n",
       " Row(state='Uttar Pradesh', male_Aadhar_count=104209),\n",
       " Row(state='Andhra Pradesh', male_Aadhar_count=74748)]"
      ]
     },
     "execution_count": 55,
     "metadata": {},
     "output_type": "execute_result"
    }
   ],
   "source": [
    "sqlContext.sql(\"select state,count(aadhar_generated) as male_Aadhar_count from aadhar_Data where gender='M'group by state order by male_Aadhar_count desc limit 3  \").collect()\n",
    "\n",
    "\n"
   ]
  },
  {
   "cell_type": "markdown",
   "metadata": {},
   "source": [
    "### In each of these 3 states, identify the top 3 districts where the percentage of Aadhaar cards being rejected for fe "
   ]
  },
  {
   "cell_type": "code",
   "execution_count": 58,
   "metadata": {},
   "outputs": [
    {
     "data": {
      "text/plain": [
       "[Row(state='Maharashtra', distinct='Pune', female_aadhar_reject=16919),\n",
       " Row(state='Maharashtra', distinct='Pune', female_aadhar_reject=16919),\n",
       " Row(state='Maharashtra', distinct='Pune', female_aadhar_reject=16919),\n",
       " Row(state='Maharashtra', distinct='Pune', female_aadhar_reject=16919),\n",
       " Row(state='Maharashtra', distinct='Pune', female_aadhar_reject=16919),\n",
       " Row(state='Maharashtra', distinct='Pune', female_aadhar_reject=16919),\n",
       " Row(state='Maharashtra', distinct='Pune', female_aadhar_reject=16919),\n",
       " Row(state='Maharashtra', distinct='Pune', female_aadhar_reject=16919),\n",
       " Row(state='Maharashtra', distinct='Pune', female_aadhar_reject=16919),\n",
       " Row(state='Maharashtra', distinct='Pune', female_aadhar_reject=16919),\n",
       " Row(state='Maharashtra', distinct='Pune', female_aadhar_reject=16919),\n",
       " Row(state='Maharashtra', distinct='Pune', female_aadhar_reject=16919),\n",
       " Row(state='Maharashtra', distinct='Pune', female_aadhar_reject=16919),\n",
       " Row(state='Maharashtra', distinct='Pune', female_aadhar_reject=16919),\n",
       " Row(state='Maharashtra', distinct='Pune', female_aadhar_reject=16919),\n",
       " Row(state='Maharashtra', distinct='Pune', female_aadhar_reject=16919),\n",
       " Row(state='Maharashtra', distinct='Pune', female_aadhar_reject=16919),\n",
       " Row(state='Maharashtra', distinct='Pune', female_aadhar_reject=16919),\n",
       " Row(state='Maharashtra', distinct='Pune', female_aadhar_reject=16919),\n",
       " Row(state='Maharashtra', distinct='Pune', female_aadhar_reject=16919),\n",
       " Row(state='Maharashtra', distinct='Pune', female_aadhar_reject=16919),\n",
       " Row(state='Maharashtra', distinct='Pune', female_aadhar_reject=16919),\n",
       " Row(state='Maharashtra', distinct='Pune', female_aadhar_reject=16919),\n",
       " Row(state='Maharashtra', distinct='Pune', female_aadhar_reject=16919),\n",
       " Row(state='Maharashtra', distinct='Pune', female_aadhar_reject=16919),\n",
       " Row(state='Maharashtra', distinct='Pune', female_aadhar_reject=16919),\n",
       " Row(state='Maharashtra', distinct='Pune', female_aadhar_reject=16919),\n",
       " Row(state='Maharashtra', distinct='Pune', female_aadhar_reject=16919),\n",
       " Row(state='Maharashtra', distinct='Pune', female_aadhar_reject=16919),\n",
       " Row(state='Maharashtra', distinct='Pune', female_aadhar_reject=16919)]"
      ]
     },
     "execution_count": 58,
     "metadata": {},
     "output_type": "execute_result"
    }
   ],
   "source": [
    "sqlContext.sql(\"select state,distinct,count(rejected) over(partition by state,distinct order by state,distinct desc ) female_aadhar_reject from aadhar_Data where gender='F' order by female_aadhar_reject desc limit 30  \").collect()\n",
    "\n",
    "\n",
    "\n"
   ]
  },
  {
   "cell_type": "markdown",
   "metadata": {},
   "source": [
    "### Write a command to see the correlation between “age” and “mobile_number”? (Hint: Consider the percentage of people who have provided the mobile number out of the total applicants) "
   ]
  },
  {
   "cell_type": "code",
   "execution_count": 59,
   "metadata": {},
   "outputs": [
    {
     "name": "stdout",
     "output_type": "stream",
     "text": [
      "+------------------------+\n",
      "|corr(age, mobile_number)|\n",
      "+------------------------+\n",
      "|    -0.03104628010634...|\n",
      "+------------------------+\n",
      "\n"
     ]
    }
   ],
   "source": [
    "from pyspark.sql.functions import corr\n",
    "df2.select(corr('age','mobile_number')).show()"
   ]
  },
  {
   "cell_type": "code",
   "execution_count": null,
   "metadata": {},
   "outputs": [],
   "source": []
  }
 ],
 "metadata": {
  "kernelspec": {
   "display_name": "Python 3",
   "language": "python",
   "name": "python3"
  },
  "language_info": {
   "codemirror_mode": {
    "name": "ipython",
    "version": 3
   },
   "file_extension": ".py",
   "mimetype": "text/x-python",
   "name": "python",
   "nbconvert_exporter": "python",
   "pygments_lexer": "ipython3",
   "version": "3.6.5"
  }
 },
 "nbformat": 4,
 "nbformat_minor": 2
}
